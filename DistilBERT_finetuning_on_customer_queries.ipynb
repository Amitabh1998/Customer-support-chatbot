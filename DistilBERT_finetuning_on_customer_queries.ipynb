{
  "nbformat": 4,
  "nbformat_minor": 0,
  "metadata": {
    "colab": {
      "provenance": [],
      "machine_shape": "hm",
      "gpuType": "A100"
    },
    "kernelspec": {
      "name": "python3",
      "display_name": "Python 3"
    },
    "language_info": {
      "name": "python"
    },
    "accelerator": "GPU"
  },
  "cells": [
    {
      "cell_type": "code",
      "execution_count": 20,
      "metadata": {
        "colab": {
          "base_uri": "https://localhost:8080/",
          "height": 1000
        },
        "id": "t85CAQgxAgFO",
        "outputId": "5b77c56d-7d0c-4bd9-f819-2283bc264c2a"
      },
      "outputs": [
        {
          "output_type": "stream",
          "name": "stdout",
          "text": [
            "Requirement already satisfied: datasets in /usr/local/lib/python3.11/dist-packages (3.5.0)\n",
            "Requirement already satisfied: filelock in /usr/local/lib/python3.11/dist-packages (from datasets) (3.17.0)\n",
            "Requirement already satisfied: numpy>=1.17 in /usr/local/lib/python3.11/dist-packages (from datasets) (1.26.4)\n",
            "Requirement already satisfied: pyarrow>=15.0.0 in /usr/local/lib/python3.11/dist-packages (from datasets) (18.1.0)\n",
            "Requirement already satisfied: dill<0.3.9,>=0.3.0 in /usr/local/lib/python3.11/dist-packages (from datasets) (0.3.8)\n",
            "Requirement already satisfied: pandas in /usr/local/lib/python3.11/dist-packages (from datasets) (2.2.2)\n",
            "Requirement already satisfied: requests>=2.32.2 in /usr/local/lib/python3.11/dist-packages (from datasets) (2.32.3)\n",
            "Requirement already satisfied: tqdm>=4.66.3 in /usr/local/lib/python3.11/dist-packages (from datasets) (4.67.1)\n",
            "Requirement already satisfied: xxhash in /usr/local/lib/python3.11/dist-packages (from datasets) (3.5.0)\n",
            "Requirement already satisfied: multiprocess<0.70.17 in /usr/local/lib/python3.11/dist-packages (from datasets) (0.70.16)\n",
            "Requirement already satisfied: fsspec<=2024.12.0,>=2023.1.0 in /usr/local/lib/python3.11/dist-packages (from fsspec[http]<=2024.12.0,>=2023.1.0->datasets) (2024.10.0)\n",
            "Requirement already satisfied: aiohttp in /usr/local/lib/python3.11/dist-packages (from datasets) (3.11.13)\n",
            "Requirement already satisfied: huggingface-hub>=0.24.0 in /usr/local/lib/python3.11/dist-packages (from datasets) (0.28.1)\n",
            "Requirement already satisfied: packaging in /usr/local/lib/python3.11/dist-packages (from datasets) (24.2)\n",
            "Requirement already satisfied: pyyaml>=5.1 in /usr/local/lib/python3.11/dist-packages (from datasets) (6.0.2)\n",
            "Requirement already satisfied: aiohappyeyeballs>=2.3.0 in /usr/local/lib/python3.11/dist-packages (from aiohttp->datasets) (2.4.6)\n",
            "Requirement already satisfied: aiosignal>=1.1.2 in /usr/local/lib/python3.11/dist-packages (from aiohttp->datasets) (1.3.2)\n",
            "Requirement already satisfied: attrs>=17.3.0 in /usr/local/lib/python3.11/dist-packages (from aiohttp->datasets) (25.1.0)\n",
            "Requirement already satisfied: frozenlist>=1.1.1 in /usr/local/lib/python3.11/dist-packages (from aiohttp->datasets) (1.5.0)\n",
            "Requirement already satisfied: multidict<7.0,>=4.5 in /usr/local/lib/python3.11/dist-packages (from aiohttp->datasets) (6.1.0)\n",
            "Requirement already satisfied: propcache>=0.2.0 in /usr/local/lib/python3.11/dist-packages (from aiohttp->datasets) (0.3.0)\n",
            "Requirement already satisfied: yarl<2.0,>=1.17.0 in /usr/local/lib/python3.11/dist-packages (from aiohttp->datasets) (1.18.3)\n",
            "Requirement already satisfied: typing-extensions>=3.7.4.3 in /usr/local/lib/python3.11/dist-packages (from huggingface-hub>=0.24.0->datasets) (4.12.2)\n",
            "Requirement already satisfied: charset-normalizer<4,>=2 in /usr/local/lib/python3.11/dist-packages (from requests>=2.32.2->datasets) (3.4.1)\n",
            "Requirement already satisfied: idna<4,>=2.5 in /usr/local/lib/python3.11/dist-packages (from requests>=2.32.2->datasets) (3.10)\n",
            "Requirement already satisfied: urllib3<3,>=1.21.1 in /usr/local/lib/python3.11/dist-packages (from requests>=2.32.2->datasets) (2.3.0)\n",
            "Requirement already satisfied: certifi>=2017.4.17 in /usr/local/lib/python3.11/dist-packages (from requests>=2.32.2->datasets) (2025.1.31)\n",
            "Requirement already satisfied: python-dateutil>=2.8.2 in /usr/local/lib/python3.11/dist-packages (from pandas->datasets) (2.8.2)\n",
            "Requirement already satisfied: pytz>=2020.1 in /usr/local/lib/python3.11/dist-packages (from pandas->datasets) (2025.1)\n",
            "Requirement already satisfied: tzdata>=2022.7 in /usr/local/lib/python3.11/dist-packages (from pandas->datasets) (2025.1)\n",
            "Requirement already satisfied: six>=1.5 in /usr/local/lib/python3.11/dist-packages (from python-dateutil>=2.8.2->pandas->datasets) (1.17.0)\n",
            "Found existing installation: transformers 4.28.1\n",
            "Uninstalling transformers-4.28.1:\n",
            "  Would remove:\n",
            "    /usr/local/bin/transformers-cli\n",
            "    /usr/local/lib/python3.11/dist-packages/transformers-4.28.1.dist-info/*\n",
            "    /usr/local/lib/python3.11/dist-packages/transformers/*\n",
            "Proceed (Y/n)? y\n",
            "  Successfully uninstalled transformers-4.28.1\n",
            "Collecting transformers==4.28.1\n",
            "  Using cached transformers-4.28.1-py3-none-any.whl.metadata (109 kB)\n",
            "Requirement already satisfied: filelock in /usr/local/lib/python3.11/dist-packages (from transformers==4.28.1) (3.17.0)\n",
            "Requirement already satisfied: huggingface-hub<1.0,>=0.11.0 in /usr/local/lib/python3.11/dist-packages (from transformers==4.28.1) (0.28.1)\n",
            "Requirement already satisfied: numpy>=1.17 in /usr/local/lib/python3.11/dist-packages (from transformers==4.28.1) (1.26.4)\n",
            "Requirement already satisfied: packaging>=20.0 in /usr/local/lib/python3.11/dist-packages (from transformers==4.28.1) (24.2)\n",
            "Requirement already satisfied: pyyaml>=5.1 in /usr/local/lib/python3.11/dist-packages (from transformers==4.28.1) (6.0.2)\n",
            "Requirement already satisfied: regex!=2019.12.17 in /usr/local/lib/python3.11/dist-packages (from transformers==4.28.1) (2024.11.6)\n",
            "Requirement already satisfied: requests in /usr/local/lib/python3.11/dist-packages (from transformers==4.28.1) (2.32.3)\n",
            "Requirement already satisfied: tokenizers!=0.11.3,<0.14,>=0.11.1 in /usr/local/lib/python3.11/dist-packages (from transformers==4.28.1) (0.13.3)\n",
            "Requirement already satisfied: tqdm>=4.27 in /usr/local/lib/python3.11/dist-packages (from transformers==4.28.1) (4.67.1)\n",
            "Requirement already satisfied: fsspec>=2023.5.0 in /usr/local/lib/python3.11/dist-packages (from huggingface-hub<1.0,>=0.11.0->transformers==4.28.1) (2024.10.0)\n",
            "Requirement already satisfied: typing-extensions>=3.7.4.3 in /usr/local/lib/python3.11/dist-packages (from huggingface-hub<1.0,>=0.11.0->transformers==4.28.1) (4.12.2)\n",
            "Requirement already satisfied: charset-normalizer<4,>=2 in /usr/local/lib/python3.11/dist-packages (from requests->transformers==4.28.1) (3.4.1)\n",
            "Requirement already satisfied: idna<4,>=2.5 in /usr/local/lib/python3.11/dist-packages (from requests->transformers==4.28.1) (3.10)\n",
            "Requirement already satisfied: urllib3<3,>=1.21.1 in /usr/local/lib/python3.11/dist-packages (from requests->transformers==4.28.1) (2.3.0)\n",
            "Requirement already satisfied: certifi>=2017.4.17 in /usr/local/lib/python3.11/dist-packages (from requests->transformers==4.28.1) (2025.1.31)\n",
            "Using cached transformers-4.28.1-py3-none-any.whl (7.0 MB)\n",
            "Installing collected packages: transformers\n",
            "\u001b[31mERROR: pip's dependency resolver does not currently take into account all the packages that are installed. This behaviour is the source of the following dependency conflicts.\n",
            "sentence-transformers 3.4.1 requires transformers<5.0.0,>=4.41.0, but you have transformers 4.28.1 which is incompatible.\u001b[0m\u001b[31m\n",
            "\u001b[0mSuccessfully installed transformers-4.28.1\n"
          ]
        },
        {
          "output_type": "display_data",
          "data": {
            "application/vnd.colab-display-data+json": {
              "pip_warning": {
                "packages": [
                  "transformers"
                ]
              },
              "id": "bf6dbebe4db14e7681e34846514ad822"
            }
          },
          "metadata": {}
        },
        {
          "output_type": "stream",
          "name": "stdout",
          "text": [
            "Requirement already satisfied: protobuf==3.20.3 in /usr/local/lib/python3.11/dist-packages (3.20.3)\n"
          ]
        }
      ],
      "source": [
        "!pip install datasets\n",
        "!pip uninstall transformers\n",
        "!pip install transformers==4.28.1\n",
        "!pip install protobuf==3.20.3"
      ]
    },
    {
      "cell_type": "code",
      "source": [
        "import transformers\n",
        "print(transformers.__version__)"
      ],
      "metadata": {
        "colab": {
          "base_uri": "https://localhost:8080/"
        },
        "id": "BmUDq15kAi2V",
        "outputId": "e7adef34-7dfa-4ac9-e06a-480c20ef78ea"
      },
      "execution_count": 1,
      "outputs": [
        {
          "output_type": "stream",
          "name": "stdout",
          "text": [
            "4.28.1\n"
          ]
        }
      ]
    },
    {
      "cell_type": "code",
      "source": [
        "# Import necessary libraries\n",
        "import os\n",
        "import pandas as pd\n",
        "import numpy as np\n",
        "from sklearn.model_selection import train_test_split, KFold\n",
        "from sklearn.preprocessing import LabelEncoder\n",
        "from sklearn.metrics import classification_report, accuracy_score, confusion_matrix\n",
        "from transformers import AutoTokenizer, AutoModelForSequenceClassification, AutoModelForSeq2SeqLM, Trainer, TrainingArguments\n",
        "from datasets import Dataset\n",
        "import torch\n",
        "import matplotlib.pyplot as plt\n",
        "import seaborn as sns"
      ],
      "metadata": {
        "id": "4gziibIQAswV"
      },
      "execution_count": 2,
      "outputs": []
    },
    {
      "cell_type": "code",
      "source": [
        "# Load the dataset\n",
        "df = pd.read_csv(\"Bitext_Sample_Customer_Support_Training_Dataset_27K_responses-v11.csv\")\n",
        "\n",
        "# Preprocess the dataset\n",
        "df['instruction'] = df['instruction'].str.lower().str.strip()\n",
        "df['intent'] = df['intent'].str.strip()\n",
        "df['response'] = df['response'].str.strip()\n",
        "\n",
        "# Drop rows with missing values in 'instruction', 'intent', or 'response'\n",
        "df = df.dropna(subset=['instruction', 'intent', 'response'])\n",
        "\n",
        "# Remove duplicate instructions to avoid overlap\n",
        "df = df.drop_duplicates(subset=['instruction'], keep='first')\n",
        "\n",
        "# Encode labels for intent classification\n",
        "label_encoder = LabelEncoder()\n",
        "df['label'] = label_encoder.fit_transform(df['intent'])\n",
        "\n",
        "# Split the dataset into training and testing sets\n",
        "train_texts, test_texts, train_labels, test_labels, train_responses, test_responses = train_test_split(\n",
        "    df['instruction'], df['label'], df['response'], test_size=0.2, random_state=42, stratify=df['label']\n",
        ")\n",
        "\n",
        "# Verify that train and test sets are disjoint\n",
        "train_set = set(train_texts)\n",
        "test_set = set(test_texts)\n",
        "\n",
        "if train_set.intersection(test_set):\n",
        "    raise ValueError(\"Overlap detected between train and test sets!\")\n",
        "\n",
        "print(\"Train and test sets are disjoint.\")"
      ],
      "metadata": {
        "colab": {
          "base_uri": "https://localhost:8080/"
        },
        "id": "ytGU_Fl7Awkl",
        "outputId": "b58b0d88-3111-4b92-b918-863b8b06d2a8"
      },
      "execution_count": 3,
      "outputs": [
        {
          "output_type": "stream",
          "name": "stdout",
          "text": [
            "Train and test sets are disjoint.\n"
          ]
        }
      ]
    },
    {
      "cell_type": "code",
      "source": [
        "# --- Intent Classification: Fine-Tune DistilBERT with k-Fold Cross-Validation ---\n",
        "model_name_intent = \"distilbert-base-multilingual-cased\"\n",
        "tokenizer_intent = AutoTokenizer.from_pretrained(model_name_intent)\n",
        "\n",
        "# Tokenize data for intent classification\n",
        "def preprocess_data_intent(texts, labels, tokenizer, max_length=128):\n",
        "    inputs = tokenizer(\n",
        "        texts.tolist(),\n",
        "        padding=True,\n",
        "        truncation=True,\n",
        "        max_length=max_length,\n",
        "        return_tensors=\"pt\"  # Return PyTorch tensors\n",
        "    )\n",
        "    inputs['labels'] = torch.tensor(labels.tolist())\n",
        "    return inputs\n"
      ],
      "metadata": {
        "id": "5DSBl16nA05m"
      },
      "execution_count": 5,
      "outputs": []
    },
    {
      "cell_type": "code",
      "source": [
        "# Evaluate the intent classification model using k-fold cross-validation\n",
        "kf = KFold(n_splits=3, shuffle=True, random_state=42)\n",
        "accuracies = []\n",
        "\n",
        "for train_index, val_index in kf.split(df):\n",
        "    train_texts_cv, val_texts_cv = df['instruction'].iloc[train_index], df['instruction'].iloc[val_index]\n",
        "    train_labels_cv, val_labels_cv = df['label'].iloc[train_index], df['label'].iloc[val_index]\n",
        "\n",
        "    # Tokenize and prepare datasets\n",
        "    train_inputs_cv = preprocess_data_intent(train_texts_cv, train_labels_cv, tokenizer_intent)\n",
        "    val_inputs_cv = preprocess_data_intent(val_texts_cv, val_labels_cv, tokenizer_intent)\n",
        "\n",
        "    # Convert to Hugging Face Dataset format\n",
        "    train_dataset_cv = Dataset.from_dict(train_inputs_cv)\n",
        "    val_dataset_cv = Dataset.from_dict(val_inputs_cv)\n",
        "\n",
        "    # Define training arguments for intent classification\n",
        "    training_args_intent = TrainingArguments(\n",
        "        output_dir=\"./distilbert_intent_model\",\n",
        "        evaluation_strategy=\"epoch\",\n",
        "        learning_rate=2e-5,\n",
        "        per_device_train_batch_size=16,\n",
        "        per_device_eval_batch_size=16,\n",
        "        num_train_epochs=2,\n",
        "        weight_decay=0.01,\n",
        "        logging_dir=\"./logs\",\n",
        "        logging_steps=10,\n",
        "        save_strategy=\"epoch\",\n",
        "        load_best_model_at_end=True,\n",
        "    )\n",
        "\n",
        "    # Initialize Trainer for intent classification\n",
        "    model_intent = AutoModelForSequenceClassification.from_pretrained(model_name_intent, num_labels=len(df['label'].unique()))\n",
        "    trainer_intent_cv = Trainer(\n",
        "        model=model_intent,\n",
        "        args=training_args_intent,\n",
        "        train_dataset=train_dataset_cv,\n",
        "        eval_dataset=val_dataset_cv,\n",
        "    )\n",
        "\n",
        "    # Train and evaluate\n",
        "    trainer_intent_cv.train()\n",
        "    predictions = trainer_intent_cv.predict(val_dataset_cv)\n",
        "    predicted_labels = np.argmax(predictions.predictions, axis=1)\n",
        "    accuracies.append(accuracy_score(val_labels_cv, predicted_labels))\n",
        "\n",
        "print(f\"Cross-Validation Accuracy (Intent Classification): {np.mean(accuracies):.4f}\")\n"
      ],
      "metadata": {
        "colab": {
          "base_uri": "https://localhost:8080/",
          "height": 1000
        },
        "id": "9yNR7060DjPN",
        "outputId": "0e505409-7ba5-44a6-da09-a3427f1eb79e"
      },
      "execution_count": 6,
      "outputs": [
        {
          "output_type": "stream",
          "name": "stderr",
          "text": [
            "Some weights of the model checkpoint at distilbert-base-multilingual-cased were not used when initializing DistilBertForSequenceClassification: ['vocab_layer_norm.weight', 'vocab_transform.bias', 'vocab_projector.bias', 'vocab_layer_norm.bias', 'vocab_transform.weight']\n",
            "- This IS expected if you are initializing DistilBertForSequenceClassification from the checkpoint of a model trained on another task or with another architecture (e.g. initializing a BertForSequenceClassification model from a BertForPreTraining model).\n",
            "- This IS NOT expected if you are initializing DistilBertForSequenceClassification from the checkpoint of a model that you expect to be exactly identical (initializing a BertForSequenceClassification model from a BertForSequenceClassification model).\n",
            "Some weights of DistilBertForSequenceClassification were not initialized from the model checkpoint at distilbert-base-multilingual-cased and are newly initialized: ['classifier.weight', 'classifier.bias', 'pre_classifier.bias', 'pre_classifier.weight']\n",
            "You should probably TRAIN this model on a down-stream task to be able to use it for predictions and inference.\n",
            "/usr/local/lib/python3.11/dist-packages/transformers/optimization.py:391: FutureWarning: This implementation of AdamW is deprecated and will be removed in a future version. Use the PyTorch implementation torch.optim.AdamW instead, or set `no_deprecation_warning=True` to disable this warning\n",
            "  warnings.warn(\n",
            "\u001b[34m\u001b[1mwandb\u001b[0m: Using wandb-core as the SDK backend.  Please refer to https://wandb.me/wandb-core for more information.\n",
            "\u001b[34m\u001b[1mwandb\u001b[0m: Currently logged in as: \u001b[33mamitabh-das1998\u001b[0m (\u001b[33mamitabh-das1998-northeastern-university\u001b[0m) to \u001b[32mhttps://api.wandb.ai\u001b[0m. Use \u001b[1m`wandb login --relogin`\u001b[0m to force relogin\n"
          ]
        },
        {
          "output_type": "display_data",
          "data": {
            "text/plain": [
              "<IPython.core.display.HTML object>"
            ],
            "text/html": [
              "Tracking run with wandb version 0.19.7"
            ]
          },
          "metadata": {}
        },
        {
          "output_type": "display_data",
          "data": {
            "text/plain": [
              "<IPython.core.display.HTML object>"
            ],
            "text/html": [
              "Run data is saved locally in <code>/content/wandb/run-20250417_002222-86691z21</code>"
            ]
          },
          "metadata": {}
        },
        {
          "output_type": "display_data",
          "data": {
            "text/plain": [
              "<IPython.core.display.HTML object>"
            ],
            "text/html": [
              "Syncing run <strong><a href='https://wandb.ai/amitabh-das1998-northeastern-university/huggingface/runs/86691z21' target=\"_blank\">warm-dust-15</a></strong> to <a href='https://wandb.ai/amitabh-das1998-northeastern-university/huggingface' target=\"_blank\">Weights & Biases</a> (<a href='https://wandb.me/developer-guide' target=\"_blank\">docs</a>)<br>"
            ]
          },
          "metadata": {}
        },
        {
          "output_type": "display_data",
          "data": {
            "text/plain": [
              "<IPython.core.display.HTML object>"
            ],
            "text/html": [
              " View project at <a href='https://wandb.ai/amitabh-das1998-northeastern-university/huggingface' target=\"_blank\">https://wandb.ai/amitabh-das1998-northeastern-university/huggingface</a>"
            ]
          },
          "metadata": {}
        },
        {
          "output_type": "display_data",
          "data": {
            "text/plain": [
              "<IPython.core.display.HTML object>"
            ],
            "text/html": [
              " View run at <a href='https://wandb.ai/amitabh-das1998-northeastern-university/huggingface/runs/86691z21' target=\"_blank\">https://wandb.ai/amitabh-das1998-northeastern-university/huggingface/runs/86691z21</a>"
            ]
          },
          "metadata": {}
        },
        {
          "output_type": "display_data",
          "data": {
            "text/plain": [
              "<IPython.core.display.HTML object>"
            ],
            "text/html": [
              "\n",
              "    <div>\n",
              "      \n",
              "      <progress value='2032' max='2032' style='width:300px; height:20px; vertical-align: middle;'></progress>\n",
              "      [2032/2032 01:10, Epoch 2/2]\n",
              "    </div>\n",
              "    <table border=\"1\" class=\"dataframe\">\n",
              "  <thead>\n",
              " <tr style=\"text-align: left;\">\n",
              "      <th>Epoch</th>\n",
              "      <th>Training Loss</th>\n",
              "      <th>Validation Loss</th>\n",
              "    </tr>\n",
              "  </thead>\n",
              "  <tbody>\n",
              "    <tr>\n",
              "      <td>1</td>\n",
              "      <td>0.032700</td>\n",
              "      <td>0.024347</td>\n",
              "    </tr>\n",
              "    <tr>\n",
              "      <td>2</td>\n",
              "      <td>0.005900</td>\n",
              "      <td>0.016206</td>\n",
              "    </tr>\n",
              "  </tbody>\n",
              "</table><p>"
            ]
          },
          "metadata": {}
        },
        {
          "output_type": "stream",
          "name": "stderr",
          "text": [
            "/usr/local/lib/python3.11/dist-packages/transformers/trainer.py:2220: FutureWarning: You are using `torch.load` with `weights_only=False` (the current default value), which uses the default pickle module implicitly. It is possible to construct malicious pickle data which will execute arbitrary code during unpickling (See https://github.com/pytorch/pytorch/blob/main/SECURITY.md#untrusted-models for more details). In a future release, the default value for `weights_only` will be flipped to `True`. This limits the functions that could be executed during unpickling. Arbitrary objects will no longer be allowed to be loaded via this mode unless they are explicitly allowlisted by the user via `torch.serialization.add_safe_globals`. We recommend you start setting `weights_only=True` for any use case where you don't have full control of the loaded file. Please open an issue on GitHub for any issues related to this experimental feature.\n",
            "  state_dict = torch.load(best_model_path, map_location=\"cpu\")\n"
          ]
        },
        {
          "output_type": "display_data",
          "data": {
            "text/plain": [
              "<IPython.core.display.HTML object>"
            ],
            "text/html": []
          },
          "metadata": {}
        },
        {
          "output_type": "stream",
          "name": "stderr",
          "text": [
            "/usr/local/lib/python3.11/dist-packages/huggingface_hub/file_download.py:795: FutureWarning: `resume_download` is deprecated and will be removed in version 1.0.0. Downloads always resume when possible. If you want to force a new download, use `force_download=True`.\n",
            "  warnings.warn(\n",
            "Some weights of the model checkpoint at distilbert-base-multilingual-cased were not used when initializing DistilBertForSequenceClassification: ['vocab_layer_norm.weight', 'vocab_transform.bias', 'vocab_projector.bias', 'vocab_layer_norm.bias', 'vocab_transform.weight']\n",
            "- This IS expected if you are initializing DistilBertForSequenceClassification from the checkpoint of a model trained on another task or with another architecture (e.g. initializing a BertForSequenceClassification model from a BertForPreTraining model).\n",
            "- This IS NOT expected if you are initializing DistilBertForSequenceClassification from the checkpoint of a model that you expect to be exactly identical (initializing a BertForSequenceClassification model from a BertForSequenceClassification model).\n",
            "Some weights of DistilBertForSequenceClassification were not initialized from the model checkpoint at distilbert-base-multilingual-cased and are newly initialized: ['classifier.weight', 'classifier.bias', 'pre_classifier.bias', 'pre_classifier.weight']\n",
            "You should probably TRAIN this model on a down-stream task to be able to use it for predictions and inference.\n",
            "/usr/local/lib/python3.11/dist-packages/transformers/optimization.py:391: FutureWarning: This implementation of AdamW is deprecated and will be removed in a future version. Use the PyTorch implementation torch.optim.AdamW instead, or set `no_deprecation_warning=True` to disable this warning\n",
            "  warnings.warn(\n"
          ]
        },
        {
          "output_type": "display_data",
          "data": {
            "text/plain": [
              "<IPython.core.display.HTML object>"
            ],
            "text/html": [
              "\n",
              "    <div>\n",
              "      \n",
              "      <progress value='2032' max='2032' style='width:300px; height:20px; vertical-align: middle;'></progress>\n",
              "      [2032/2032 01:11, Epoch 2/2]\n",
              "    </div>\n",
              "    <table border=\"1\" class=\"dataframe\">\n",
              "  <thead>\n",
              " <tr style=\"text-align: left;\">\n",
              "      <th>Epoch</th>\n",
              "      <th>Training Loss</th>\n",
              "      <th>Validation Loss</th>\n",
              "    </tr>\n",
              "  </thead>\n",
              "  <tbody>\n",
              "    <tr>\n",
              "      <td>1</td>\n",
              "      <td>0.021200</td>\n",
              "      <td>0.030726</td>\n",
              "    </tr>\n",
              "    <tr>\n",
              "      <td>2</td>\n",
              "      <td>0.006800</td>\n",
              "      <td>0.016865</td>\n",
              "    </tr>\n",
              "  </tbody>\n",
              "</table><p>"
            ]
          },
          "metadata": {}
        },
        {
          "output_type": "stream",
          "name": "stderr",
          "text": [
            "/usr/local/lib/python3.11/dist-packages/transformers/trainer.py:2220: FutureWarning: You are using `torch.load` with `weights_only=False` (the current default value), which uses the default pickle module implicitly. It is possible to construct malicious pickle data which will execute arbitrary code during unpickling (See https://github.com/pytorch/pytorch/blob/main/SECURITY.md#untrusted-models for more details). In a future release, the default value for `weights_only` will be flipped to `True`. This limits the functions that could be executed during unpickling. Arbitrary objects will no longer be allowed to be loaded via this mode unless they are explicitly allowlisted by the user via `torch.serialization.add_safe_globals`. We recommend you start setting `weights_only=True` for any use case where you don't have full control of the loaded file. Please open an issue on GitHub for any issues related to this experimental feature.\n",
            "  state_dict = torch.load(best_model_path, map_location=\"cpu\")\n"
          ]
        },
        {
          "output_type": "display_data",
          "data": {
            "text/plain": [
              "<IPython.core.display.HTML object>"
            ],
            "text/html": []
          },
          "metadata": {}
        },
        {
          "output_type": "stream",
          "name": "stderr",
          "text": [
            "/usr/local/lib/python3.11/dist-packages/huggingface_hub/file_download.py:795: FutureWarning: `resume_download` is deprecated and will be removed in version 1.0.0. Downloads always resume when possible. If you want to force a new download, use `force_download=True`.\n",
            "  warnings.warn(\n",
            "Some weights of the model checkpoint at distilbert-base-multilingual-cased were not used when initializing DistilBertForSequenceClassification: ['vocab_layer_norm.weight', 'vocab_transform.bias', 'vocab_projector.bias', 'vocab_layer_norm.bias', 'vocab_transform.weight']\n",
            "- This IS expected if you are initializing DistilBertForSequenceClassification from the checkpoint of a model trained on another task or with another architecture (e.g. initializing a BertForSequenceClassification model from a BertForPreTraining model).\n",
            "- This IS NOT expected if you are initializing DistilBertForSequenceClassification from the checkpoint of a model that you expect to be exactly identical (initializing a BertForSequenceClassification model from a BertForSequenceClassification model).\n",
            "Some weights of DistilBertForSequenceClassification were not initialized from the model checkpoint at distilbert-base-multilingual-cased and are newly initialized: ['classifier.weight', 'classifier.bias', 'pre_classifier.bias', 'pre_classifier.weight']\n",
            "You should probably TRAIN this model on a down-stream task to be able to use it for predictions and inference.\n",
            "/usr/local/lib/python3.11/dist-packages/transformers/optimization.py:391: FutureWarning: This implementation of AdamW is deprecated and will be removed in a future version. Use the PyTorch implementation torch.optim.AdamW instead, or set `no_deprecation_warning=True` to disable this warning\n",
            "  warnings.warn(\n"
          ]
        },
        {
          "output_type": "display_data",
          "data": {
            "text/plain": [
              "<IPython.core.display.HTML object>"
            ],
            "text/html": [
              "\n",
              "    <div>\n",
              "      \n",
              "      <progress value='2032' max='2032' style='width:300px; height:20px; vertical-align: middle;'></progress>\n",
              "      [2032/2032 01:11, Epoch 2/2]\n",
              "    </div>\n",
              "    <table border=\"1\" class=\"dataframe\">\n",
              "  <thead>\n",
              " <tr style=\"text-align: left;\">\n",
              "      <th>Epoch</th>\n",
              "      <th>Training Loss</th>\n",
              "      <th>Validation Loss</th>\n",
              "    </tr>\n",
              "  </thead>\n",
              "  <tbody>\n",
              "    <tr>\n",
              "      <td>1</td>\n",
              "      <td>0.037900</td>\n",
              "      <td>0.028538</td>\n",
              "    </tr>\n",
              "    <tr>\n",
              "      <td>2</td>\n",
              "      <td>0.008800</td>\n",
              "      <td>0.016415</td>\n",
              "    </tr>\n",
              "  </tbody>\n",
              "</table><p>"
            ]
          },
          "metadata": {}
        },
        {
          "output_type": "stream",
          "name": "stderr",
          "text": [
            "/usr/local/lib/python3.11/dist-packages/transformers/trainer.py:2220: FutureWarning: You are using `torch.load` with `weights_only=False` (the current default value), which uses the default pickle module implicitly. It is possible to construct malicious pickle data which will execute arbitrary code during unpickling (See https://github.com/pytorch/pytorch/blob/main/SECURITY.md#untrusted-models for more details). In a future release, the default value for `weights_only` will be flipped to `True`. This limits the functions that could be executed during unpickling. Arbitrary objects will no longer be allowed to be loaded via this mode unless they are explicitly allowlisted by the user via `torch.serialization.add_safe_globals`. We recommend you start setting `weights_only=True` for any use case where you don't have full control of the loaded file. Please open an issue on GitHub for any issues related to this experimental feature.\n",
            "  state_dict = torch.load(best_model_path, map_location=\"cpu\")\n"
          ]
        },
        {
          "output_type": "display_data",
          "data": {
            "text/plain": [
              "<IPython.core.display.HTML object>"
            ],
            "text/html": []
          },
          "metadata": {}
        },
        {
          "output_type": "stream",
          "name": "stdout",
          "text": [
            "Cross-Validation Accuracy (Intent Classification): 0.9967\n"
          ]
        }
      ]
    },
    {
      "cell_type": "code",
      "source": [
        "# --- Hyperparameter Tuning with Ablation Study ---\n",
        "learning_rates = [1e-5, 2e-5]\n",
        "batch_sizes = [8, 16]\n",
        "max_lengths = [64, 128]\n",
        "\n",
        "results_ablation = []\n",
        "\n",
        "for lr in learning_rates:\n",
        "    for batch_size in batch_sizes:\n",
        "        for max_length in max_lengths:\n",
        "            print(f\"Training with lr={lr}, batch_size={batch_size}, max_length={max_length}\")\n",
        "\n",
        "            # Update training arguments\n",
        "            training_args_ablation = TrainingArguments(\n",
        "                output_dir=\"./distilbert_intent_model_ablation\",\n",
        "                evaluation_strategy=\"epoch\",\n",
        "                learning_rate=lr,\n",
        "                per_device_train_batch_size=batch_size,\n",
        "                per_device_eval_batch_size=batch_size,\n",
        "                num_train_epochs=1,\n",
        "                weight_decay=0.01,\n",
        "                logging_dir=\"./logs\",\n",
        "                logging_steps=10,\n",
        "                save_strategy=\"epoch\",\n",
        "                load_best_model_at_end=True,\n",
        "            )\n",
        "\n",
        "            # Tokenize data with updated max_length\n",
        "            train_inputs_ablation = preprocess_data_intent(train_texts, train_labels, tokenizer_intent, max_length=max_length)\n",
        "            test_inputs_ablation = preprocess_data_intent(test_texts, test_labels, tokenizer_intent, max_length=max_length)\n",
        "\n",
        "            # Convert to Hugging Face Dataset format\n",
        "            train_dataset_ablation = Dataset.from_dict(train_inputs_ablation)\n",
        "            test_dataset_ablation = Dataset.from_dict(test_inputs_ablation)\n",
        "\n",
        "            # Initialize Trainer\n",
        "            model_intent_ablation = AutoModelForSequenceClassification.from_pretrained(model_name_intent, num_labels=len(df['label'].unique()))\n",
        "            trainer_ablation = Trainer(\n",
        "                model=model_intent_ablation,\n",
        "                args=training_args_ablation,\n",
        "                train_dataset=train_dataset_ablation,\n",
        "                eval_dataset=test_dataset_ablation,\n",
        "            )\n",
        "\n",
        "            # Train and evaluate\n",
        "            trainer_ablation.train()\n",
        "            predictions_ablation = trainer_ablation.predict(test_dataset_ablation)\n",
        "            predicted_labels_ablation = np.argmax(predictions_ablation.predictions, axis=1)\n",
        "            acc_ablation = accuracy_score(test_labels, predicted_labels_ablation)\n",
        "\n",
        "            results_ablation.append({\n",
        "                \"learning_rate\": lr,\n",
        "                \"batch_size\": batch_size,\n",
        "                \"max_length\": max_length,\n",
        "                \"accuracy\": acc_ablation\n",
        "            })\n",
        "\n",
        "# Save ablation study results\n",
        "results_df = pd.DataFrame(results_ablation)\n",
        "print(\"\\nAblation Study Results:\")\n",
        "print(results_df)\n",
        "results_df.to_csv(\"ablation_study_results.csv\", index=False)\n"
      ],
      "metadata": {
        "colab": {
          "base_uri": "https://localhost:8080/",
          "height": 1000
        },
        "id": "uYqegwBvBDMV",
        "outputId": "6c742a9d-f5fc-420b-e475-5ab39b388a23"
      },
      "execution_count": 7,
      "outputs": [
        {
          "output_type": "stream",
          "name": "stdout",
          "text": [
            "Training with lr=1e-05, batch_size=8, max_length=64\n"
          ]
        },
        {
          "output_type": "stream",
          "name": "stderr",
          "text": [
            "/usr/local/lib/python3.11/dist-packages/huggingface_hub/file_download.py:795: FutureWarning: `resume_download` is deprecated and will be removed in version 1.0.0. Downloads always resume when possible. If you want to force a new download, use `force_download=True`.\n",
            "  warnings.warn(\n",
            "Some weights of the model checkpoint at distilbert-base-multilingual-cased were not used when initializing DistilBertForSequenceClassification: ['vocab_layer_norm.weight', 'vocab_transform.bias', 'vocab_projector.bias', 'vocab_layer_norm.bias', 'vocab_transform.weight']\n",
            "- This IS expected if you are initializing DistilBertForSequenceClassification from the checkpoint of a model trained on another task or with another architecture (e.g. initializing a BertForSequenceClassification model from a BertForPreTraining model).\n",
            "- This IS NOT expected if you are initializing DistilBertForSequenceClassification from the checkpoint of a model that you expect to be exactly identical (initializing a BertForSequenceClassification model from a BertForSequenceClassification model).\n",
            "Some weights of DistilBertForSequenceClassification were not initialized from the model checkpoint at distilbert-base-multilingual-cased and are newly initialized: ['classifier.weight', 'classifier.bias', 'pre_classifier.bias', 'pre_classifier.weight']\n",
            "You should probably TRAIN this model on a down-stream task to be able to use it for predictions and inference.\n",
            "/usr/local/lib/python3.11/dist-packages/transformers/optimization.py:391: FutureWarning: This implementation of AdamW is deprecated and will be removed in a future version. Use the PyTorch implementation torch.optim.AdamW instead, or set `no_deprecation_warning=True` to disable this warning\n",
            "  warnings.warn(\n"
          ]
        },
        {
          "output_type": "display_data",
          "data": {
            "text/plain": [
              "<IPython.core.display.HTML object>"
            ],
            "text/html": [
              "\n",
              "    <div>\n",
              "      \n",
              "      <progress value='2437' max='2437' style='width:300px; height:20px; vertical-align: middle;'></progress>\n",
              "      [2437/2437 01:15, Epoch 1/1]\n",
              "    </div>\n",
              "    <table border=\"1\" class=\"dataframe\">\n",
              "  <thead>\n",
              " <tr style=\"text-align: left;\">\n",
              "      <th>Epoch</th>\n",
              "      <th>Training Loss</th>\n",
              "      <th>Validation Loss</th>\n",
              "    </tr>\n",
              "  </thead>\n",
              "  <tbody>\n",
              "    <tr>\n",
              "      <td>1</td>\n",
              "      <td>0.085200</td>\n",
              "      <td>0.101555</td>\n",
              "    </tr>\n",
              "  </tbody>\n",
              "</table><p>"
            ]
          },
          "metadata": {}
        },
        {
          "output_type": "stream",
          "name": "stderr",
          "text": [
            "/usr/local/lib/python3.11/dist-packages/transformers/trainer.py:2220: FutureWarning: You are using `torch.load` with `weights_only=False` (the current default value), which uses the default pickle module implicitly. It is possible to construct malicious pickle data which will execute arbitrary code during unpickling (See https://github.com/pytorch/pytorch/blob/main/SECURITY.md#untrusted-models for more details). In a future release, the default value for `weights_only` will be flipped to `True`. This limits the functions that could be executed during unpickling. Arbitrary objects will no longer be allowed to be loaded via this mode unless they are explicitly allowlisted by the user via `torch.serialization.add_safe_globals`. We recommend you start setting `weights_only=True` for any use case where you don't have full control of the loaded file. Please open an issue on GitHub for any issues related to this experimental feature.\n",
            "  state_dict = torch.load(best_model_path, map_location=\"cpu\")\n"
          ]
        },
        {
          "output_type": "display_data",
          "data": {
            "text/plain": [
              "<IPython.core.display.HTML object>"
            ],
            "text/html": []
          },
          "metadata": {}
        },
        {
          "output_type": "stream",
          "name": "stdout",
          "text": [
            "Training with lr=1e-05, batch_size=8, max_length=128\n"
          ]
        },
        {
          "output_type": "stream",
          "name": "stderr",
          "text": [
            "/usr/local/lib/python3.11/dist-packages/huggingface_hub/file_download.py:795: FutureWarning: `resume_download` is deprecated and will be removed in version 1.0.0. Downloads always resume when possible. If you want to force a new download, use `force_download=True`.\n",
            "  warnings.warn(\n",
            "Some weights of the model checkpoint at distilbert-base-multilingual-cased were not used when initializing DistilBertForSequenceClassification: ['vocab_layer_norm.weight', 'vocab_transform.bias', 'vocab_projector.bias', 'vocab_layer_norm.bias', 'vocab_transform.weight']\n",
            "- This IS expected if you are initializing DistilBertForSequenceClassification from the checkpoint of a model trained on another task or with another architecture (e.g. initializing a BertForSequenceClassification model from a BertForPreTraining model).\n",
            "- This IS NOT expected if you are initializing DistilBertForSequenceClassification from the checkpoint of a model that you expect to be exactly identical (initializing a BertForSequenceClassification model from a BertForSequenceClassification model).\n",
            "Some weights of DistilBertForSequenceClassification were not initialized from the model checkpoint at distilbert-base-multilingual-cased and are newly initialized: ['classifier.weight', 'classifier.bias', 'pre_classifier.bias', 'pre_classifier.weight']\n",
            "You should probably TRAIN this model on a down-stream task to be able to use it for predictions and inference.\n",
            "/usr/local/lib/python3.11/dist-packages/transformers/optimization.py:391: FutureWarning: This implementation of AdamW is deprecated and will be removed in a future version. Use the PyTorch implementation torch.optim.AdamW instead, or set `no_deprecation_warning=True` to disable this warning\n",
            "  warnings.warn(\n"
          ]
        },
        {
          "output_type": "display_data",
          "data": {
            "text/plain": [
              "<IPython.core.display.HTML object>"
            ],
            "text/html": [
              "\n",
              "    <div>\n",
              "      \n",
              "      <progress value='2437' max='2437' style='width:300px; height:20px; vertical-align: middle;'></progress>\n",
              "      [2437/2437 01:16, Epoch 1/1]\n",
              "    </div>\n",
              "    <table border=\"1\" class=\"dataframe\">\n",
              "  <thead>\n",
              " <tr style=\"text-align: left;\">\n",
              "      <th>Epoch</th>\n",
              "      <th>Training Loss</th>\n",
              "      <th>Validation Loss</th>\n",
              "    </tr>\n",
              "  </thead>\n",
              "  <tbody>\n",
              "    <tr>\n",
              "      <td>1</td>\n",
              "      <td>0.076500</td>\n",
              "      <td>0.097006</td>\n",
              "    </tr>\n",
              "  </tbody>\n",
              "</table><p>"
            ]
          },
          "metadata": {}
        },
        {
          "output_type": "stream",
          "name": "stderr",
          "text": [
            "/usr/local/lib/python3.11/dist-packages/transformers/trainer.py:2220: FutureWarning: You are using `torch.load` with `weights_only=False` (the current default value), which uses the default pickle module implicitly. It is possible to construct malicious pickle data which will execute arbitrary code during unpickling (See https://github.com/pytorch/pytorch/blob/main/SECURITY.md#untrusted-models for more details). In a future release, the default value for `weights_only` will be flipped to `True`. This limits the functions that could be executed during unpickling. Arbitrary objects will no longer be allowed to be loaded via this mode unless they are explicitly allowlisted by the user via `torch.serialization.add_safe_globals`. We recommend you start setting `weights_only=True` for any use case where you don't have full control of the loaded file. Please open an issue on GitHub for any issues related to this experimental feature.\n",
            "  state_dict = torch.load(best_model_path, map_location=\"cpu\")\n"
          ]
        },
        {
          "output_type": "display_data",
          "data": {
            "text/plain": [
              "<IPython.core.display.HTML object>"
            ],
            "text/html": []
          },
          "metadata": {}
        },
        {
          "output_type": "stream",
          "name": "stdout",
          "text": [
            "Training with lr=1e-05, batch_size=16, max_length=64\n"
          ]
        },
        {
          "output_type": "stream",
          "name": "stderr",
          "text": [
            "/usr/local/lib/python3.11/dist-packages/huggingface_hub/file_download.py:795: FutureWarning: `resume_download` is deprecated and will be removed in version 1.0.0. Downloads always resume when possible. If you want to force a new download, use `force_download=True`.\n",
            "  warnings.warn(\n",
            "Some weights of the model checkpoint at distilbert-base-multilingual-cased were not used when initializing DistilBertForSequenceClassification: ['vocab_layer_norm.weight', 'vocab_transform.bias', 'vocab_projector.bias', 'vocab_layer_norm.bias', 'vocab_transform.weight']\n",
            "- This IS expected if you are initializing DistilBertForSequenceClassification from the checkpoint of a model trained on another task or with another architecture (e.g. initializing a BertForSequenceClassification model from a BertForPreTraining model).\n",
            "- This IS NOT expected if you are initializing DistilBertForSequenceClassification from the checkpoint of a model that you expect to be exactly identical (initializing a BertForSequenceClassification model from a BertForSequenceClassification model).\n",
            "Some weights of DistilBertForSequenceClassification were not initialized from the model checkpoint at distilbert-base-multilingual-cased and are newly initialized: ['classifier.weight', 'classifier.bias', 'pre_classifier.bias', 'pre_classifier.weight']\n",
            "You should probably TRAIN this model on a down-stream task to be able to use it for predictions and inference.\n",
            "/usr/local/lib/python3.11/dist-packages/transformers/optimization.py:391: FutureWarning: This implementation of AdamW is deprecated and will be removed in a future version. Use the PyTorch implementation torch.optim.AdamW instead, or set `no_deprecation_warning=True` to disable this warning\n",
            "  warnings.warn(\n"
          ]
        },
        {
          "output_type": "display_data",
          "data": {
            "text/plain": [
              "<IPython.core.display.HTML object>"
            ],
            "text/html": [
              "\n",
              "    <div>\n",
              "      \n",
              "      <progress value='1219' max='1219' style='width:300px; height:20px; vertical-align: middle;'></progress>\n",
              "      [1219/1219 00:39, Epoch 1/1]\n",
              "    </div>\n",
              "    <table border=\"1\" class=\"dataframe\">\n",
              "  <thead>\n",
              " <tr style=\"text-align: left;\">\n",
              "      <th>Epoch</th>\n",
              "      <th>Training Loss</th>\n",
              "      <th>Validation Loss</th>\n",
              "    </tr>\n",
              "  </thead>\n",
              "  <tbody>\n",
              "    <tr>\n",
              "      <td>1</td>\n",
              "      <td>0.451800</td>\n",
              "      <td>0.382856</td>\n",
              "    </tr>\n",
              "  </tbody>\n",
              "</table><p>"
            ]
          },
          "metadata": {}
        },
        {
          "output_type": "stream",
          "name": "stderr",
          "text": [
            "/usr/local/lib/python3.11/dist-packages/transformers/trainer.py:2220: FutureWarning: You are using `torch.load` with `weights_only=False` (the current default value), which uses the default pickle module implicitly. It is possible to construct malicious pickle data which will execute arbitrary code during unpickling (See https://github.com/pytorch/pytorch/blob/main/SECURITY.md#untrusted-models for more details). In a future release, the default value for `weights_only` will be flipped to `True`. This limits the functions that could be executed during unpickling. Arbitrary objects will no longer be allowed to be loaded via this mode unless they are explicitly allowlisted by the user via `torch.serialization.add_safe_globals`. We recommend you start setting `weights_only=True` for any use case where you don't have full control of the loaded file. Please open an issue on GitHub for any issues related to this experimental feature.\n",
            "  state_dict = torch.load(best_model_path, map_location=\"cpu\")\n"
          ]
        },
        {
          "output_type": "display_data",
          "data": {
            "text/plain": [
              "<IPython.core.display.HTML object>"
            ],
            "text/html": []
          },
          "metadata": {}
        },
        {
          "output_type": "stream",
          "name": "stdout",
          "text": [
            "Training with lr=1e-05, batch_size=16, max_length=128\n"
          ]
        },
        {
          "output_type": "stream",
          "name": "stderr",
          "text": [
            "/usr/local/lib/python3.11/dist-packages/huggingface_hub/file_download.py:795: FutureWarning: `resume_download` is deprecated and will be removed in version 1.0.0. Downloads always resume when possible. If you want to force a new download, use `force_download=True`.\n",
            "  warnings.warn(\n",
            "Some weights of the model checkpoint at distilbert-base-multilingual-cased were not used when initializing DistilBertForSequenceClassification: ['vocab_layer_norm.weight', 'vocab_transform.bias', 'vocab_projector.bias', 'vocab_layer_norm.bias', 'vocab_transform.weight']\n",
            "- This IS expected if you are initializing DistilBertForSequenceClassification from the checkpoint of a model trained on another task or with another architecture (e.g. initializing a BertForSequenceClassification model from a BertForPreTraining model).\n",
            "- This IS NOT expected if you are initializing DistilBertForSequenceClassification from the checkpoint of a model that you expect to be exactly identical (initializing a BertForSequenceClassification model from a BertForSequenceClassification model).\n",
            "Some weights of DistilBertForSequenceClassification were not initialized from the model checkpoint at distilbert-base-multilingual-cased and are newly initialized: ['classifier.weight', 'classifier.bias', 'pre_classifier.bias', 'pre_classifier.weight']\n",
            "You should probably TRAIN this model on a down-stream task to be able to use it for predictions and inference.\n",
            "/usr/local/lib/python3.11/dist-packages/transformers/optimization.py:391: FutureWarning: This implementation of AdamW is deprecated and will be removed in a future version. Use the PyTorch implementation torch.optim.AdamW instead, or set `no_deprecation_warning=True` to disable this warning\n",
            "  warnings.warn(\n"
          ]
        },
        {
          "output_type": "display_data",
          "data": {
            "text/plain": [
              "<IPython.core.display.HTML object>"
            ],
            "text/html": [
              "\n",
              "    <div>\n",
              "      \n",
              "      <progress value='1219' max='1219' style='width:300px; height:20px; vertical-align: middle;'></progress>\n",
              "      [1219/1219 00:39, Epoch 1/1]\n",
              "    </div>\n",
              "    <table border=\"1\" class=\"dataframe\">\n",
              "  <thead>\n",
              " <tr style=\"text-align: left;\">\n",
              "      <th>Epoch</th>\n",
              "      <th>Training Loss</th>\n",
              "      <th>Validation Loss</th>\n",
              "    </tr>\n",
              "  </thead>\n",
              "  <tbody>\n",
              "    <tr>\n",
              "      <td>1</td>\n",
              "      <td>0.451800</td>\n",
              "      <td>0.382856</td>\n",
              "    </tr>\n",
              "  </tbody>\n",
              "</table><p>"
            ]
          },
          "metadata": {}
        },
        {
          "output_type": "stream",
          "name": "stderr",
          "text": [
            "/usr/local/lib/python3.11/dist-packages/transformers/trainer.py:2220: FutureWarning: You are using `torch.load` with `weights_only=False` (the current default value), which uses the default pickle module implicitly. It is possible to construct malicious pickle data which will execute arbitrary code during unpickling (See https://github.com/pytorch/pytorch/blob/main/SECURITY.md#untrusted-models for more details). In a future release, the default value for `weights_only` will be flipped to `True`. This limits the functions that could be executed during unpickling. Arbitrary objects will no longer be allowed to be loaded via this mode unless they are explicitly allowlisted by the user via `torch.serialization.add_safe_globals`. We recommend you start setting `weights_only=True` for any use case where you don't have full control of the loaded file. Please open an issue on GitHub for any issues related to this experimental feature.\n",
            "  state_dict = torch.load(best_model_path, map_location=\"cpu\")\n"
          ]
        },
        {
          "output_type": "display_data",
          "data": {
            "text/plain": [
              "<IPython.core.display.HTML object>"
            ],
            "text/html": []
          },
          "metadata": {}
        },
        {
          "output_type": "stream",
          "name": "stdout",
          "text": [
            "Training with lr=2e-05, batch_size=8, max_length=64\n"
          ]
        },
        {
          "output_type": "stream",
          "name": "stderr",
          "text": [
            "/usr/local/lib/python3.11/dist-packages/huggingface_hub/file_download.py:795: FutureWarning: `resume_download` is deprecated and will be removed in version 1.0.0. Downloads always resume when possible. If you want to force a new download, use `force_download=True`.\n",
            "  warnings.warn(\n",
            "Some weights of the model checkpoint at distilbert-base-multilingual-cased were not used when initializing DistilBertForSequenceClassification: ['vocab_layer_norm.weight', 'vocab_transform.bias', 'vocab_projector.bias', 'vocab_layer_norm.bias', 'vocab_transform.weight']\n",
            "- This IS expected if you are initializing DistilBertForSequenceClassification from the checkpoint of a model trained on another task or with another architecture (e.g. initializing a BertForSequenceClassification model from a BertForPreTraining model).\n",
            "- This IS NOT expected if you are initializing DistilBertForSequenceClassification from the checkpoint of a model that you expect to be exactly identical (initializing a BertForSequenceClassification model from a BertForSequenceClassification model).\n",
            "Some weights of DistilBertForSequenceClassification were not initialized from the model checkpoint at distilbert-base-multilingual-cased and are newly initialized: ['classifier.weight', 'classifier.bias', 'pre_classifier.bias', 'pre_classifier.weight']\n",
            "You should probably TRAIN this model on a down-stream task to be able to use it for predictions and inference.\n",
            "/usr/local/lib/python3.11/dist-packages/transformers/optimization.py:391: FutureWarning: This implementation of AdamW is deprecated and will be removed in a future version. Use the PyTorch implementation torch.optim.AdamW instead, or set `no_deprecation_warning=True` to disable this warning\n",
            "  warnings.warn(\n"
          ]
        },
        {
          "output_type": "display_data",
          "data": {
            "text/plain": [
              "<IPython.core.display.HTML object>"
            ],
            "text/html": [
              "\n",
              "    <div>\n",
              "      \n",
              "      <progress value='2437' max='2437' style='width:300px; height:20px; vertical-align: middle;'></progress>\n",
              "      [2437/2437 01:16, Epoch 1/1]\n",
              "    </div>\n",
              "    <table border=\"1\" class=\"dataframe\">\n",
              "  <thead>\n",
              " <tr style=\"text-align: left;\">\n",
              "      <th>Epoch</th>\n",
              "      <th>Training Loss</th>\n",
              "      <th>Validation Loss</th>\n",
              "    </tr>\n",
              "  </thead>\n",
              "  <tbody>\n",
              "    <tr>\n",
              "      <td>1</td>\n",
              "      <td>0.006300</td>\n",
              "      <td>0.021768</td>\n",
              "    </tr>\n",
              "  </tbody>\n",
              "</table><p>"
            ]
          },
          "metadata": {}
        },
        {
          "output_type": "stream",
          "name": "stderr",
          "text": [
            "/usr/local/lib/python3.11/dist-packages/transformers/trainer.py:2220: FutureWarning: You are using `torch.load` with `weights_only=False` (the current default value), which uses the default pickle module implicitly. It is possible to construct malicious pickle data which will execute arbitrary code during unpickling (See https://github.com/pytorch/pytorch/blob/main/SECURITY.md#untrusted-models for more details). In a future release, the default value for `weights_only` will be flipped to `True`. This limits the functions that could be executed during unpickling. Arbitrary objects will no longer be allowed to be loaded via this mode unless they are explicitly allowlisted by the user via `torch.serialization.add_safe_globals`. We recommend you start setting `weights_only=True` for any use case where you don't have full control of the loaded file. Please open an issue on GitHub for any issues related to this experimental feature.\n",
            "  state_dict = torch.load(best_model_path, map_location=\"cpu\")\n"
          ]
        },
        {
          "output_type": "display_data",
          "data": {
            "text/plain": [
              "<IPython.core.display.HTML object>"
            ],
            "text/html": []
          },
          "metadata": {}
        },
        {
          "output_type": "stream",
          "name": "stdout",
          "text": [
            "Training with lr=2e-05, batch_size=8, max_length=128\n"
          ]
        },
        {
          "output_type": "stream",
          "name": "stderr",
          "text": [
            "/usr/local/lib/python3.11/dist-packages/huggingface_hub/file_download.py:795: FutureWarning: `resume_download` is deprecated and will be removed in version 1.0.0. Downloads always resume when possible. If you want to force a new download, use `force_download=True`.\n",
            "  warnings.warn(\n",
            "Some weights of the model checkpoint at distilbert-base-multilingual-cased were not used when initializing DistilBertForSequenceClassification: ['vocab_layer_norm.weight', 'vocab_transform.bias', 'vocab_projector.bias', 'vocab_layer_norm.bias', 'vocab_transform.weight']\n",
            "- This IS expected if you are initializing DistilBertForSequenceClassification from the checkpoint of a model trained on another task or with another architecture (e.g. initializing a BertForSequenceClassification model from a BertForPreTraining model).\n",
            "- This IS NOT expected if you are initializing DistilBertForSequenceClassification from the checkpoint of a model that you expect to be exactly identical (initializing a BertForSequenceClassification model from a BertForSequenceClassification model).\n",
            "Some weights of DistilBertForSequenceClassification were not initialized from the model checkpoint at distilbert-base-multilingual-cased and are newly initialized: ['classifier.weight', 'classifier.bias', 'pre_classifier.bias', 'pre_classifier.weight']\n",
            "You should probably TRAIN this model on a down-stream task to be able to use it for predictions and inference.\n",
            "/usr/local/lib/python3.11/dist-packages/transformers/optimization.py:391: FutureWarning: This implementation of AdamW is deprecated and will be removed in a future version. Use the PyTorch implementation torch.optim.AdamW instead, or set `no_deprecation_warning=True` to disable this warning\n",
            "  warnings.warn(\n"
          ]
        },
        {
          "output_type": "display_data",
          "data": {
            "text/plain": [
              "<IPython.core.display.HTML object>"
            ],
            "text/html": [
              "\n",
              "    <div>\n",
              "      \n",
              "      <progress value='2437' max='2437' style='width:300px; height:20px; vertical-align: middle;'></progress>\n",
              "      [2437/2437 01:16, Epoch 1/1]\n",
              "    </div>\n",
              "    <table border=\"1\" class=\"dataframe\">\n",
              "  <thead>\n",
              " <tr style=\"text-align: left;\">\n",
              "      <th>Epoch</th>\n",
              "      <th>Training Loss</th>\n",
              "      <th>Validation Loss</th>\n",
              "    </tr>\n",
              "  </thead>\n",
              "  <tbody>\n",
              "    <tr>\n",
              "      <td>1</td>\n",
              "      <td>0.006300</td>\n",
              "      <td>0.021768</td>\n",
              "    </tr>\n",
              "  </tbody>\n",
              "</table><p>"
            ]
          },
          "metadata": {}
        },
        {
          "output_type": "stream",
          "name": "stderr",
          "text": [
            "/usr/local/lib/python3.11/dist-packages/transformers/trainer.py:2220: FutureWarning: You are using `torch.load` with `weights_only=False` (the current default value), which uses the default pickle module implicitly. It is possible to construct malicious pickle data which will execute arbitrary code during unpickling (See https://github.com/pytorch/pytorch/blob/main/SECURITY.md#untrusted-models for more details). In a future release, the default value for `weights_only` will be flipped to `True`. This limits the functions that could be executed during unpickling. Arbitrary objects will no longer be allowed to be loaded via this mode unless they are explicitly allowlisted by the user via `torch.serialization.add_safe_globals`. We recommend you start setting `weights_only=True` for any use case where you don't have full control of the loaded file. Please open an issue on GitHub for any issues related to this experimental feature.\n",
            "  state_dict = torch.load(best_model_path, map_location=\"cpu\")\n"
          ]
        },
        {
          "output_type": "display_data",
          "data": {
            "text/plain": [
              "<IPython.core.display.HTML object>"
            ],
            "text/html": []
          },
          "metadata": {}
        },
        {
          "output_type": "stream",
          "name": "stdout",
          "text": [
            "Training with lr=2e-05, batch_size=16, max_length=64\n"
          ]
        },
        {
          "output_type": "stream",
          "name": "stderr",
          "text": [
            "/usr/local/lib/python3.11/dist-packages/huggingface_hub/file_download.py:795: FutureWarning: `resume_download` is deprecated and will be removed in version 1.0.0. Downloads always resume when possible. If you want to force a new download, use `force_download=True`.\n",
            "  warnings.warn(\n",
            "Some weights of the model checkpoint at distilbert-base-multilingual-cased were not used when initializing DistilBertForSequenceClassification: ['vocab_layer_norm.weight', 'vocab_transform.bias', 'vocab_projector.bias', 'vocab_layer_norm.bias', 'vocab_transform.weight']\n",
            "- This IS expected if you are initializing DistilBertForSequenceClassification from the checkpoint of a model trained on another task or with another architecture (e.g. initializing a BertForSequenceClassification model from a BertForPreTraining model).\n",
            "- This IS NOT expected if you are initializing DistilBertForSequenceClassification from the checkpoint of a model that you expect to be exactly identical (initializing a BertForSequenceClassification model from a BertForSequenceClassification model).\n",
            "Some weights of DistilBertForSequenceClassification were not initialized from the model checkpoint at distilbert-base-multilingual-cased and are newly initialized: ['classifier.weight', 'classifier.bias', 'pre_classifier.bias', 'pre_classifier.weight']\n",
            "You should probably TRAIN this model on a down-stream task to be able to use it for predictions and inference.\n",
            "/usr/local/lib/python3.11/dist-packages/transformers/optimization.py:391: FutureWarning: This implementation of AdamW is deprecated and will be removed in a future version. Use the PyTorch implementation torch.optim.AdamW instead, or set `no_deprecation_warning=True` to disable this warning\n",
            "  warnings.warn(\n"
          ]
        },
        {
          "output_type": "display_data",
          "data": {
            "text/plain": [
              "<IPython.core.display.HTML object>"
            ],
            "text/html": [
              "\n",
              "    <div>\n",
              "      \n",
              "      <progress value='1219' max='1219' style='width:300px; height:20px; vertical-align: middle;'></progress>\n",
              "      [1219/1219 00:40, Epoch 1/1]\n",
              "    </div>\n",
              "    <table border=\"1\" class=\"dataframe\">\n",
              "  <thead>\n",
              " <tr style=\"text-align: left;\">\n",
              "      <th>Epoch</th>\n",
              "      <th>Training Loss</th>\n",
              "      <th>Validation Loss</th>\n",
              "    </tr>\n",
              "  </thead>\n",
              "  <tbody>\n",
              "    <tr>\n",
              "      <td>1</td>\n",
              "      <td>0.058900</td>\n",
              "      <td>0.050157</td>\n",
              "    </tr>\n",
              "  </tbody>\n",
              "</table><p>"
            ]
          },
          "metadata": {}
        },
        {
          "output_type": "stream",
          "name": "stderr",
          "text": [
            "/usr/local/lib/python3.11/dist-packages/transformers/trainer.py:2220: FutureWarning: You are using `torch.load` with `weights_only=False` (the current default value), which uses the default pickle module implicitly. It is possible to construct malicious pickle data which will execute arbitrary code during unpickling (See https://github.com/pytorch/pytorch/blob/main/SECURITY.md#untrusted-models for more details). In a future release, the default value for `weights_only` will be flipped to `True`. This limits the functions that could be executed during unpickling. Arbitrary objects will no longer be allowed to be loaded via this mode unless they are explicitly allowlisted by the user via `torch.serialization.add_safe_globals`. We recommend you start setting `weights_only=True` for any use case where you don't have full control of the loaded file. Please open an issue on GitHub for any issues related to this experimental feature.\n",
            "  state_dict = torch.load(best_model_path, map_location=\"cpu\")\n"
          ]
        },
        {
          "output_type": "display_data",
          "data": {
            "text/plain": [
              "<IPython.core.display.HTML object>"
            ],
            "text/html": []
          },
          "metadata": {}
        },
        {
          "output_type": "stream",
          "name": "stdout",
          "text": [
            "Training with lr=2e-05, batch_size=16, max_length=128\n"
          ]
        },
        {
          "output_type": "stream",
          "name": "stderr",
          "text": [
            "/usr/local/lib/python3.11/dist-packages/huggingface_hub/file_download.py:795: FutureWarning: `resume_download` is deprecated and will be removed in version 1.0.0. Downloads always resume when possible. If you want to force a new download, use `force_download=True`.\n",
            "  warnings.warn(\n",
            "Some weights of the model checkpoint at distilbert-base-multilingual-cased were not used when initializing DistilBertForSequenceClassification: ['vocab_layer_norm.weight', 'vocab_transform.bias', 'vocab_projector.bias', 'vocab_layer_norm.bias', 'vocab_transform.weight']\n",
            "- This IS expected if you are initializing DistilBertForSequenceClassification from the checkpoint of a model trained on another task or with another architecture (e.g. initializing a BertForSequenceClassification model from a BertForPreTraining model).\n",
            "- This IS NOT expected if you are initializing DistilBertForSequenceClassification from the checkpoint of a model that you expect to be exactly identical (initializing a BertForSequenceClassification model from a BertForSequenceClassification model).\n",
            "Some weights of DistilBertForSequenceClassification were not initialized from the model checkpoint at distilbert-base-multilingual-cased and are newly initialized: ['classifier.weight', 'classifier.bias', 'pre_classifier.bias', 'pre_classifier.weight']\n",
            "You should probably TRAIN this model on a down-stream task to be able to use it for predictions and inference.\n",
            "/usr/local/lib/python3.11/dist-packages/transformers/optimization.py:391: FutureWarning: This implementation of AdamW is deprecated and will be removed in a future version. Use the PyTorch implementation torch.optim.AdamW instead, or set `no_deprecation_warning=True` to disable this warning\n",
            "  warnings.warn(\n"
          ]
        },
        {
          "output_type": "display_data",
          "data": {
            "text/plain": [
              "<IPython.core.display.HTML object>"
            ],
            "text/html": [
              "\n",
              "    <div>\n",
              "      \n",
              "      <progress value='1219' max='1219' style='width:300px; height:20px; vertical-align: middle;'></progress>\n",
              "      [1219/1219 00:40, Epoch 1/1]\n",
              "    </div>\n",
              "    <table border=\"1\" class=\"dataframe\">\n",
              "  <thead>\n",
              " <tr style=\"text-align: left;\">\n",
              "      <th>Epoch</th>\n",
              "      <th>Training Loss</th>\n",
              "      <th>Validation Loss</th>\n",
              "    </tr>\n",
              "  </thead>\n",
              "  <tbody>\n",
              "    <tr>\n",
              "      <td>1</td>\n",
              "      <td>0.058900</td>\n",
              "      <td>0.050157</td>\n",
              "    </tr>\n",
              "  </tbody>\n",
              "</table><p>"
            ]
          },
          "metadata": {}
        },
        {
          "output_type": "stream",
          "name": "stderr",
          "text": [
            "/usr/local/lib/python3.11/dist-packages/transformers/trainer.py:2220: FutureWarning: You are using `torch.load` with `weights_only=False` (the current default value), which uses the default pickle module implicitly. It is possible to construct malicious pickle data which will execute arbitrary code during unpickling (See https://github.com/pytorch/pytorch/blob/main/SECURITY.md#untrusted-models for more details). In a future release, the default value for `weights_only` will be flipped to `True`. This limits the functions that could be executed during unpickling. Arbitrary objects will no longer be allowed to be loaded via this mode unless they are explicitly allowlisted by the user via `torch.serialization.add_safe_globals`. We recommend you start setting `weights_only=True` for any use case where you don't have full control of the loaded file. Please open an issue on GitHub for any issues related to this experimental feature.\n",
            "  state_dict = torch.load(best_model_path, map_location=\"cpu\")\n"
          ]
        },
        {
          "output_type": "display_data",
          "data": {
            "text/plain": [
              "<IPython.core.display.HTML object>"
            ],
            "text/html": []
          },
          "metadata": {}
        },
        {
          "output_type": "stream",
          "name": "stdout",
          "text": [
            "\n",
            "Ablation Study Results:\n",
            "   learning_rate  batch_size  max_length  accuracy\n",
            "0        0.00001           8          64  0.984615\n",
            "1        0.00001           8         128  0.985436\n",
            "2        0.00001          16          64  0.952205\n",
            "3        0.00001          16         128  0.952205\n",
            "4        0.00002           8          64  0.995282\n",
            "5        0.00002           8         128  0.995282\n",
            "6        0.00002          16          64  0.991795\n",
            "7        0.00002          16         128  0.991795\n"
          ]
        }
      ]
    },
    {
      "cell_type": "code",
      "source": [
        "# --- Error Analysis ---\n",
        "errors = []\n",
        "for i, (pred, true) in enumerate(zip(predicted_labels, test_labels)):\n",
        "    if pred != true:\n",
        "        errors.append({\n",
        "            \"Input\": test_texts.iloc[i],\n",
        "            \"True Intent\": label_encoder.inverse_transform([true])[0],\n",
        "            \"Predicted Intent\": label_encoder.inverse_transform([pred])[0]\n",
        "        })\n",
        "\n",
        "error_analysis = pd.DataFrame(errors)\n",
        "print(\"\\nError Analysis (Intent Classification):\")\n",
        "print(error_analysis.head())\n",
        "error_analysis.to_csv(\"error_analysis_intent.csv\", index=False)"
      ],
      "metadata": {
        "colab": {
          "base_uri": "https://localhost:8080/"
        },
        "id": "qoE7WNQiCZY6",
        "outputId": "4e8bc643-1600-4c8f-975b-1b3085e008e7"
      },
      "execution_count": 8,
      "outputs": [
        {
          "output_type": "stream",
          "name": "stdout",
          "text": [
            "\n",
            "Error Analysis (Intent Classification):\n",
            "                                               Input       True Intent  \\\n",
            "0  i want assistance to see the options for shipment  delivery_options   \n",
            "1            i need help to report a payment problem     payment_issue   \n",
            "2        i need to check how long the delivery takes   delivery_period   \n",
            "3  i want help notifying of troubles with online ...     payment_issue   \n",
            "4                 can i send feedback for a service?            review   \n",
            "\n",
            "  Predicted Intent  \n",
            "0     cancel_order  \n",
            "1     cancel_order  \n",
            "2     cancel_order  \n",
            "3     cancel_order  \n",
            "4     cancel_order  \n"
          ]
        }
      ]
    },
    {
      "cell_type": "code",
      "source": [
        "# --- Response Generation: Fine-Tune mT5 ---\n",
        "model_name_response = \"google/mt5-small\"\n",
        "tokenizer_response = AutoTokenizer.from_pretrained(model_name_response)\n",
        "model_response = AutoModelForSeq2SeqLM.from_pretrained(model_name_response)\n",
        "\n",
        "# Tokenize data for response generation\n",
        "def preprocess_data_response(texts, responses, tokenizer, max_input_length=128, max_output_length=128):\n",
        "    inputs = tokenizer(\n",
        "        texts.tolist(),\n",
        "        padding=\"max_length\",\n",
        "        truncation=True,\n",
        "        max_length=max_input_length,\n",
        "        return_tensors=\"pt\"\n",
        "    )\n",
        "    outputs = tokenizer(\n",
        "        responses.tolist(),\n",
        "        padding=\"max_length\",\n",
        "        truncation=True,\n",
        "        max_length=max_output_length,\n",
        "        return_tensors=\"pt\"\n",
        "    )\n",
        "    inputs['labels'] = outputs['input_ids']\n",
        "    return inputs\n",
        "\n",
        "# Tokenize and prepare datasets\n",
        "train_inputs_response = preprocess_data_response(train_texts, train_responses, tokenizer_response)\n",
        "test_inputs_response = preprocess_data_response(test_texts, test_responses, tokenizer_response)\n"
      ],
      "metadata": {
        "colab": {
          "base_uri": "https://localhost:8080/"
        },
        "id": "dXnFIONwHEo2",
        "outputId": "ee735971-d2a7-462c-95a6-7d07c6b1f5b2"
      },
      "execution_count": 9,
      "outputs": [
        {
          "output_type": "stream",
          "name": "stderr",
          "text": [
            "/usr/local/lib/python3.11/dist-packages/huggingface_hub/file_download.py:795: FutureWarning: `resume_download` is deprecated and will be removed in version 1.0.0. Downloads always resume when possible. If you want to force a new download, use `force_download=True`.\n",
            "  warnings.warn(\n",
            "/usr/local/lib/python3.11/dist-packages/transformers/convert_slow_tokenizer.py:454: UserWarning: The sentencepiece tokenizer that you are converting to a fast tokenizer uses the byte fallback option which is not implemented in the fast tokenizers. In practice this means that the fast version of the tokenizer can produce unknown tokens whereas the sentencepiece version would have converted these unknown tokens into a sequence of byte tokens matching the original piece of text.\n",
            "  warnings.warn(\n",
            "/usr/local/lib/python3.11/dist-packages/transformers/modeling_utils.py:442: FutureWarning: You are using `torch.load` with `weights_only=False` (the current default value), which uses the default pickle module implicitly. It is possible to construct malicious pickle data which will execute arbitrary code during unpickling (See https://github.com/pytorch/pytorch/blob/main/SECURITY.md#untrusted-models for more details). In a future release, the default value for `weights_only` will be flipped to `True`. This limits the functions that could be executed during unpickling. Arbitrary objects will no longer be allowed to be loaded via this mode unless they are explicitly allowlisted by the user via `torch.serialization.add_safe_globals`. We recommend you start setting `weights_only=True` for any use case where you don't have full control of the loaded file. Please open an issue on GitHub for any issues related to this experimental feature.\n",
            "  return torch.load(checkpoint_file, map_location=\"cpu\")\n"
          ]
        }
      ]
    },
    {
      "cell_type": "code",
      "source": [
        "import os\n",
        "\n",
        "checkpoint_path = \"./distilbert_intent_model/checkpoint-2032\"\n",
        "print(os.listdir(checkpoint_path))"
      ],
      "metadata": {
        "colab": {
          "base_uri": "https://localhost:8080/"
        },
        "id": "lFMHMMY4XIPF",
        "outputId": "f6b5379e-9485-4008-aaa6-82faf80f709b"
      },
      "execution_count": 17,
      "outputs": [
        {
          "output_type": "stream",
          "name": "stdout",
          "text": [
            "['trainer_state.json', 'config.json', 'pytorch_model.bin', 'scheduler.pt', 'optimizer.pt', 'rng_state.pth', 'training_args.bin']\n"
          ]
        }
      ]
    },
    {
      "cell_type": "code",
      "source": [
        "from transformers import AutoTokenizer\n",
        "\n",
        "# Path to the checkpoint folder\n",
        "checkpoint_folder = \"./distilbert_intent_model/checkpoint-2032\"\n",
        "\n",
        "# Download and save the tokenizer files\n",
        "tokenizer = AutoTokenizer.from_pretrained(\"distilbert-base-multilingual-cased\")\n",
        "tokenizer.save_pretrained(checkpoint_folder)"
      ],
      "metadata": {
        "colab": {
          "base_uri": "https://localhost:8080/"
        },
        "id": "s28ZNiLUXrYj",
        "outputId": "530fc843-0d02-4ee5-966a-b6fb15114f32"
      },
      "execution_count": 18,
      "outputs": [
        {
          "output_type": "stream",
          "name": "stderr",
          "text": [
            "/usr/local/lib/python3.11/dist-packages/huggingface_hub/file_download.py:795: FutureWarning: `resume_download` is deprecated and will be removed in version 1.0.0. Downloads always resume when possible. If you want to force a new download, use `force_download=True`.\n",
            "  warnings.warn(\n"
          ]
        },
        {
          "output_type": "execute_result",
          "data": {
            "text/plain": [
              "('./distilbert_intent_model/checkpoint-2032/tokenizer_config.json',\n",
              " './distilbert_intent_model/checkpoint-2032/special_tokens_map.json',\n",
              " './distilbert_intent_model/checkpoint-2032/vocab.txt',\n",
              " './distilbert_intent_model/checkpoint-2032/added_tokens.json',\n",
              " './distilbert_intent_model/checkpoint-2032/tokenizer.json')"
            ]
          },
          "metadata": {},
          "execution_count": 18
        }
      ]
    },
    {
      "cell_type": "code",
      "source": [
        "from transformers import AutoTokenizer\n",
        "\n",
        "# Path to the checkpoint folder\n",
        "checkpoint_folder = \"./distilbert_intent_model/checkpoint-2032\"\n",
        "\n",
        "# Load the tokenizer\n",
        "tokenizer = AutoTokenizer.from_pretrained(checkpoint_folder)\n",
        "\n",
        "# Test tokenization\n",
        "sample_input = \"I need help tracking my order.\"\n",
        "tokens = tokenizer(sample_input, padding=True, truncation=True, max_length=128, return_tensors=\"pt\")\n",
        "print(tokens)"
      ],
      "metadata": {
        "colab": {
          "base_uri": "https://localhost:8080/"
        },
        "id": "0LqnfBnmXvoP",
        "outputId": "3508e891-8e4f-4118-99e2-dffb3d373d9d"
      },
      "execution_count": 19,
      "outputs": [
        {
          "output_type": "stream",
          "name": "stdout",
          "text": [
            "{'input_ids': tensor([[   101,    146,  17367,  15217, 108307,  15127,  12990,    119,    102]]), 'attention_mask': tensor([[1, 1, 1, 1, 1, 1, 1, 1, 1]])}\n"
          ]
        }
      ]
    },
    {
      "cell_type": "code",
      "source": [
        "import numpy as np\n",
        "from sklearn.preprocessing import LabelEncoder\n",
        "\n",
        "# Fit the LabelEncoder on the unique intents\n",
        "label_encoder = LabelEncoder()\n",
        "label_encoder.fit(df['intent'])\n",
        "\n",
        "# Save the classes to a .npy file\n",
        "np.save(\"label_encoder_classes.npy\", label_encoder.classes_)"
      ],
      "metadata": {
        "id": "Go5lEzXCZuiN"
      },
      "execution_count": 26,
      "outputs": []
    },
    {
      "cell_type": "code",
      "source": [
        "import numpy as np\n",
        "\n",
        "# Load the saved classes\n",
        "loaded_classes = np.load(\"label_encoder_classes.npy\", allow_pickle=True)\n",
        "print(loaded_classes)"
      ],
      "metadata": {
        "colab": {
          "base_uri": "https://localhost:8080/"
        },
        "id": "noyn8AudZwuU",
        "outputId": "87ef6082-d203-4a69-97a7-bf5b5ab67fa3"
      },
      "execution_count": 27,
      "outputs": [
        {
          "output_type": "stream",
          "name": "stdout",
          "text": [
            "['cancel_order' 'change_order' 'change_shipping_address'\n",
            " 'check_cancellation_fee' 'check_invoice' 'check_payment_methods'\n",
            " 'check_refund_policy' 'complaint' 'contact_customer_service'\n",
            " 'contact_human_agent' 'create_account' 'delete_account'\n",
            " 'delivery_options' 'delivery_period' 'edit_account' 'get_invoice'\n",
            " 'get_refund' 'newsletter_subscription' 'payment_issue' 'place_order'\n",
            " 'recover_password' 'registration_problems' 'review'\n",
            " 'set_up_shipping_address' 'switch_account' 'track_order' 'track_refund']\n"
          ]
        }
      ]
    },
    {
      "cell_type": "code",
      "source": [
        "# Import necessary libraries\n",
        "import os\n",
        "import pandas as pd\n",
        "import numpy as np\n",
        "from sklearn.preprocessing import LabelEncoder\n",
        "from transformers import AutoTokenizer, AutoModelForSequenceClassification, AutoModelForSeq2SeqLM\n",
        "import torch\n",
        "import random\n",
        "\n",
        "# --- Load Pretrained Models ---\n",
        "# Intent Classification Model (DistilBERT)\n",
        "model_name_intent = \"distilbert-base-multilingual-cased\"\n",
        "\n",
        "# Path to the specific checkpoint folder\n",
        "checkpoint_folder_intent = \"/content/distilbert_intent_model/checkpoint-2032\"  # Replace with your desired checkpoint\n",
        "\n",
        "tokenizer_intent = AutoTokenizer.from_pretrained(checkpoint_folder_intent)\n",
        "model_intent = AutoModelForSequenceClassification.from_pretrained(checkpoint_folder_intent)\n",
        "\n",
        "# Response Generation Model (Flan-T5)\n",
        "model_name_response = \"google/flan-t5-small\"\n",
        "tokenizer_response = AutoTokenizer.from_pretrained(model_name_response)\n",
        "model_response = AutoModelForSeq2SeqLM.from_pretrained(model_name_response)\n",
        "\n",
        "# Load label encoder (used during training)\n",
        "label_encoder = LabelEncoder()\n",
        "\n",
        "# Load the saved classes from the .npy file\n",
        "label_encoder.classes_ = np.load(\"label_encoder_classes.npy\", allow_pickle=True)\n",
        "\n",
        "# Ensure the LabelEncoder is \"fitted\" by setting its state manually\n",
        "label_encoder._classes = label_encoder.classes_\n",
        "\n",
        "# --- Knowledge Base Integration ---\n",
        "knowledge_base = {\n",
        "    \"recover_password\": [\n",
        "        \"To recover your PIN code, follow these steps: 1. Navigate to the account recovery page. 2. Click on the 'Forgot PIN' option. 3. Enter the email address associated with your account. 4. An email with instructions will be sent to you shortly.\",\n",
        "        \"If you've lost access to your PIN, visit the account recovery page and follow the prompts to reset it.\",\n",
        "        \"Go to the '{{Account Recovery Page}}' on our platform. Look for the option to recover your PIN code and click on it. You will be asked to verify your identity through a series of security questions. Once your identity is confirmed, you will receive a temporary PIN code via email. Use this temporary PIN code to log in to your account and create a new, secure PIN code of your choice.\"\n",
        "    ],\n",
        "    \"track_order\": [\n",
        "        \"To track your order, please provide your order ID. You can find the tracking information in your account's order history section.\",\n",
        "        \"Visit the 'Order Tracking' section of your account to view the status of your order.\"\n",
        "    ],\n",
        "    \"reset_pin\": [\n",
        "        \"To reset your PIN code, go to the account settings page and select the 'Reset PIN' option. Follow the instructions to verify your identity and set a new PIN.\",\n",
        "        \"If you need to reset your PIN, navigate to the security settings in your account and follow the prompts.\"\n",
        "    ],\n",
        "    \"recover_account\": [\n",
        "        \"To recover your account, visit the account recovery page and follow the instructions provided.\",\n",
        "        \"If you're unable to access your account, use the account recovery tool to regain access.\"\n",
        "    ],\n",
        "    \"access_key_recovery\": [\n",
        "        \"To recover your access key, please contact our customer support team for assistance.\",\n",
        "        \"If you've lost your access key, reach out to our support team, and they will guide you through the recovery process.\"\n",
        "    ]\n",
        "}\n",
        "\n",
        "# --- Chatbot Functionality ---\n",
        "def generate_chatbot_response(user_input):\n",
        "    # Predict intent\n",
        "    inputs_intent = tokenizer_intent([user_input], padding=True, truncation=True, max_length=128, return_tensors=\"pt\")\n",
        "    outputs_intent = model_intent(**inputs_intent)\n",
        "    intent_id = torch.argmax(outputs_intent.logits, dim=-1).item()\n",
        "\n",
        "    # Use the label encoder to map the predicted ID to an intent\n",
        "    intent = label_encoder.inverse_transform([intent_id])[0]\n",
        "    confidence = torch.softmax(outputs_intent.logits, dim=-1).max().item()\n",
        "\n",
        "    # Confidence thresholding\n",
        "    if confidence < 0.5:\n",
        "        return \"I'm sorry, I didn't understand that. Can you please rephrase?\"\n",
        "\n",
        "    # Generate response based on detected intent\n",
        "    # Add a detailed prompt to guide the Flan-T5 model\n",
        "    prefixed_input = (\n",
        "        f\"You are a customer support assistant specializing in helping users with account issues. \"\n",
        "        f\"Provide a concise and helpful response to the following query:\\n\"\n",
        "        f\"User: {user_input}\\n\"\n",
        "        f\"Assistant:\"\n",
        "    )\n",
        "    inputs_response = tokenizer_response([prefixed_input], padding=True, truncation=True, max_length=128, return_tensors=\"pt\")\n",
        "    outputs_response = model_response.generate(**inputs_response, max_length=128)\n",
        "    response = tokenizer_response.decode(outputs_response[0], skip_special_tokens=True)\n",
        "\n",
        "    # Clean up the response\n",
        "    def clean_response(response):\n",
        "        # Remove unnecessary placeholders\n",
        "        response = response.replace(\"<extra_id_0>\", \"\").strip()\n",
        "\n",
        "        # Handle empty responses\n",
        "        if not response:\n",
        "            response = \"I'm sorry, I couldn't generate a response.\"\n",
        "\n",
        "        return response\n",
        "    response = clean_response(response)\n",
        "\n",
        "    # Fallback to knowledge base if response is empty or unclear\n",
        "    if not response.strip() or confidence < 0.7:\n",
        "        if intent in knowledge_base:\n",
        "            response = random.choice(knowledge_base[intent])  # Randomly select a response\n",
        "        else:\n",
        "            response = \"I'm sorry, I couldn't find a suitable response for your query.\"\n",
        "\n",
        "    return response\n",
        "\n",
        "# Test the chatbot with sample inputs\n",
        "sample_inputs = [\n",
        "    \"I need help tracking my order.\",\n",
        "    \"How can I reset my PIN code?\",\n",
        "    \"Can you help me recover my account?\",\n",
        "    \"What do I have to do to recover my account access key?\",\n",
        "    \"I want assistance to reset the PIN code of my account.\"\n",
        "]\n",
        "\n",
        "for input_text in sample_inputs:\n",
        "    response = generate_chatbot_response(input_text)\n",
        "    print(f\"Input: {input_text}\")\n",
        "    print(f\"Response: {response}\\n\")"
      ],
      "metadata": {
        "colab": {
          "base_uri": "https://localhost:8080/"
        },
        "id": "Z5ITdGWjVBhC",
        "outputId": "6d6ed8ea-e992-41a8-9a92-f7f6b868ba6f"
      },
      "execution_count": 32,
      "outputs": [
        {
          "output_type": "stream",
          "name": "stderr",
          "text": [
            "/usr/local/lib/python3.11/dist-packages/transformers/modeling_utils.py:442: FutureWarning: You are using `torch.load` with `weights_only=False` (the current default value), which uses the default pickle module implicitly. It is possible to construct malicious pickle data which will execute arbitrary code during unpickling (See https://github.com/pytorch/pytorch/blob/main/SECURITY.md#untrusted-models for more details). In a future release, the default value for `weights_only` will be flipped to `True`. This limits the functions that could be executed during unpickling. Arbitrary objects will no longer be allowed to be loaded via this mode unless they are explicitly allowlisted by the user via `torch.serialization.add_safe_globals`. We recommend you start setting `weights_only=True` for any use case where you don't have full control of the loaded file. Please open an issue on GitHub for any issues related to this experimental feature.\n",
            "  return torch.load(checkpoint_file, map_location=\"cpu\")\n",
            "/usr/local/lib/python3.11/dist-packages/huggingface_hub/file_download.py:795: FutureWarning: `resume_download` is deprecated and will be removed in version 1.0.0. Downloads always resume when possible. If you want to force a new download, use `force_download=True`.\n",
            "  warnings.warn(\n"
          ]
        },
        {
          "output_type": "stream",
          "name": "stdout",
          "text": [
            "Input: I need help tracking my order.\n",
            "Response: To track your order, please provide your order ID. You can find the tracking information in your account's order history section.\n",
            "\n",
            "Input: How can I reset my PIN code?\n",
            "Response: You can use the PIN code you created to reset your PIN.\n",
            "\n",
            "Input: Can you help me recover my account?\n",
            "Response: I've been trying to recover my account.\n",
            "\n",
            "Input: What do I have to do to recover my account access key?\n",
            "Response: I have to do this to recover my account access key.\n",
            "\n",
            "Input: I want assistance to reset the PIN code of my account.\n",
            "Response: I am looking for help with the PIN code.\n",
            "\n"
          ]
        }
      ]
    },
    {
      "cell_type": "code",
      "source": [
        "# Import necessary libraries\n",
        "import os\n",
        "import pandas as pd\n",
        "import numpy as np\n",
        "from sklearn.preprocessing import LabelEncoder\n",
        "from transformers import AutoTokenizer, AutoModelForSequenceClassification, AutoModelForSeq2SeqLM\n",
        "import torch\n",
        "import random\n",
        "\n",
        "# --- Load Pretrained Models ---\n",
        "# Intent Classification Model (DistilBERT)\n",
        "model_name_intent = \"distilbert-base-multilingual-cased\"\n",
        "checkpoint_folder_intent = \"/content/distilbert_intent_model/checkpoint-2032\"  # Replace with your desired checkpoint\n",
        "\n",
        "tokenizer_intent = AutoTokenizer.from_pretrained(checkpoint_folder_intent)\n",
        "model_intent = AutoModelForSequenceClassification.from_pretrained(checkpoint_folder_intent)\n",
        "\n",
        "# Response Generation Model (Flan-T5)\n",
        "model_name_response = \"google/flan-t5-small\"\n",
        "tokenizer_response = AutoTokenizer.from_pretrained(model_name_response)\n",
        "model_response = AutoModelForSeq2SeqLM.from_pretrained(model_name_response)\n",
        "\n",
        "# Load label encoder (used during training)\n",
        "label_encoder = LabelEncoder()\n",
        "\n",
        "# Load the saved classes from the .npy file\n",
        "label_encoder.classes_ = np.load(\"label_encoder_classes.npy\", allow_pickle=True)\n",
        "\n",
        "# Ensure the LabelEncoder is \"fitted\" by setting its state manually\n",
        "label_encoder._classes = label_encoder.classes_\n",
        "\n",
        "# --- Knowledge Base Integration ---\n",
        "knowledge_base = {\n",
        "    \"recover_password\": [\n",
        "        \"To recover your PIN code, follow these steps: 1. Navigate to the account recovery page. 2. Click on the 'Forgot PIN' option. 3. Enter the email address associated with your account. 4. An email with instructions will be sent to you shortly.\",\n",
        "        \"If you've lost access to your PIN, visit the account recovery page and follow the prompts to reset it.\"\n",
        "    ],\n",
        "    \"track_order\": [\n",
        "        \"To track your order, please provide your order ID. You can find the tracking information in your account's order history section.\",\n",
        "        \"Visit the 'Order Tracking' section of your account to view the status of your order.\"\n",
        "    ],\n",
        "    \"reset_pin\": [\n",
        "        \"To reset your PIN code, go to the account settings page and select the 'Reset PIN' option. Follow the instructions to verify your identity and set a new PIN.\",\n",
        "        \"If you need to reset your PIN, navigate to the security settings in your account and follow the prompts.\"\n",
        "    ],\n",
        "    \"recover_account\": [\n",
        "        \"To recover your account, visit the account recovery page and follow the instructions provided.\",\n",
        "        \"If you're unable to access your account, use the account recovery tool to regain access.\"\n",
        "    ],\n",
        "    \"access_key_recovery\": [\n",
        "        \"To recover your access key, please contact our customer support team for assistance.\",\n",
        "        \"If you've lost your access key, reach out to our support team, and they will guide you through the recovery process.\"\n",
        "    ]\n",
        "}\n",
        "\n",
        "# --- Chatbot Functionality ---\n",
        "def generate_chatbot_response(user_input):\n",
        "    # Predict intent using DistilBERT\n",
        "    inputs_intent = tokenizer_intent([user_input], padding=True, truncation=True, max_length=128, return_tensors=\"pt\")\n",
        "    outputs_intent = model_intent(**inputs_intent)\n",
        "    intent_id = torch.argmax(outputs_intent.logits, dim=-1).item()\n",
        "\n",
        "    # Use the label encoder to map the predicted ID to an intent\n",
        "    intent = label_encoder.inverse_transform([intent_id])[0]\n",
        "    confidence = torch.softmax(outputs_intent.logits, dim=-1).max().item()\n",
        "\n",
        "    # Confidence thresholding\n",
        "    if confidence < 0.5:\n",
        "        return \"I'm sorry, I didn't understand that. Can you please rephrase?\"\n",
        "\n",
        "    # Generate response using Flan-T5\n",
        "    # Add a detailed prompt to guide the Flan-T5 model\n",
        "    prefixed_input = (\n",
        "        f\"You are a customer support assistant specializing in helping users with account issues. \"\n",
        "        f\"Provide a concise and helpful response to the following query:\\n\"\n",
        "        f\"User: {user_input}\\n\"\n",
        "        f\"Assistant:\"\n",
        "    )\n",
        "    inputs_response = tokenizer_response([prefixed_input], padding=True, truncation=True, max_length=128, return_tensors=\"pt\")\n",
        "    outputs_response = model_response.generate(**inputs_response, max_length=128)\n",
        "    response = tokenizer_response.decode(outputs_response[0], skip_special_tokens=True)\n",
        "\n",
        "    # Clean up the response\n",
        "    def clean_response(response):\n",
        "        # Remove unnecessary placeholders\n",
        "        response = response.replace(\"<extra_id_0>\", \"\").strip()\n",
        "\n",
        "        # Handle empty responses\n",
        "        if not response:\n",
        "            response = \"I'm sorry, I couldn't generate a response.\"\n",
        "\n",
        "        return response\n",
        "    response = clean_response(response)\n",
        "\n",
        "    # Fallback to knowledge base if response is empty or unclear\n",
        "    if not response.strip() or confidence < 0.7:\n",
        "        if intent in knowledge_base:\n",
        "            response = random.choice(knowledge_base[intent])  # Randomly select a response\n",
        "        else:\n",
        "            response = \"I'm sorry, I couldn't find a suitable response for your query.\"\n",
        "\n",
        "    return response\n",
        "\n",
        "# --- Test the Chatbot with Sample Inputs ---\n",
        "sample_inputs = [\n",
        "    \"I need help tracking my order.\",\n",
        "    \"How can I reset my PIN code?\",\n",
        "    \"Can you help me recover my account?\",\n",
        "    \"What do I have to do to recover my account access key?\",\n",
        "    \"I want assistance to reset the PIN code of my account.\",\n",
        "    \"I am trying to contact a human agent.\",\n",
        "    \"I expect a compensation of $100.\",\n",
        "    \"Can you help me switch to a premium account?\"\n",
        "]\n",
        "\n",
        "for input_text in sample_inputs:\n",
        "    response = generate_chatbot_response(input_text)\n",
        "    print(f\"Input: {input_text}\")\n",
        "    print(f\"Response: {response}\\n\")"
      ],
      "metadata": {
        "colab": {
          "base_uri": "https://localhost:8080/"
        },
        "id": "3hhuAvHNLIQm",
        "outputId": "5f4951f8-281e-49d4-ef40-50011882244b"
      },
      "execution_count": 34,
      "outputs": [
        {
          "output_type": "stream",
          "name": "stdout",
          "text": [
            "Input: I need help tracking my order.\n",
            "Response: To track your order, please provide your order ID. You can find the tracking information in your account's order history section.\n",
            "\n",
            "Input: How can I reset my PIN code?\n",
            "Response: You can use the PIN code you created to reset your PIN.\n",
            "\n",
            "Input: Can you help me recover my account?\n",
            "Response: I've been trying to recover my account.\n",
            "\n",
            "Input: What do I have to do to recover my account access key?\n",
            "Response: I have to do this to recover my account access key.\n",
            "\n",
            "Input: I want assistance to reset the PIN code of my account.\n",
            "Response: I am looking for help with the PIN code.\n",
            "\n",
            "Input: I am trying to contact a human agent.\n",
            "Response: I am looking for a human agent.\n",
            "\n",
            "Input: I expect a compensation of $100.\n",
            "Response: I'm a customer support assistant specializing in helping users with account issues.\n",
            "\n",
            "Input: Can you help me switch to a premium account?\n",
            "Response: I'm sorry, I can't help you.\n",
            "\n"
          ]
        }
      ]
    },
    {
      "cell_type": "code",
      "source": [
        "# Import necessary libraries\n",
        "import os\n",
        "import pandas as pd\n",
        "import numpy as np\n",
        "from sklearn.preprocessing import LabelEncoder\n",
        "from transformers import AutoTokenizer, AutoModelForSequenceClassification, AutoModelForSeq2SeqLM\n",
        "import torch\n",
        "import random\n",
        "from nltk.translate.bleu_score import sentence_bleu\n",
        "import nltk\n",
        "\n",
        "# Ensure the necessary NLTK resources are downloaded\n",
        "nltk.download('punkt_tab')\n",
        "\n",
        "# --- Load Pretrained Models ---\n",
        "# Intent Classification Model (DistilBERT)\n",
        "model_name_intent = \"distilbert-base-multilingual-cased\"\n",
        "checkpoint_folder_intent = \"/content/distilbert_intent_model/checkpoint-2032\"  # Replace with your desired checkpoint\n",
        "\n",
        "tokenizer_intent = AutoTokenizer.from_pretrained(checkpoint_folder_intent)\n",
        "model_intent = AutoModelForSequenceClassification.from_pretrained(checkpoint_folder_intent)\n",
        "\n",
        "# Response Generation Model (Flan-T5)\n",
        "model_name_response = \"google/flan-t5-small\"\n",
        "tokenizer_response = AutoTokenizer.from_pretrained(model_name_response)\n",
        "model_response = AutoModelForSeq2SeqLM.from_pretrained(model_name_response)\n",
        "\n",
        "# Load label encoder (used during training)\n",
        "label_encoder = LabelEncoder()\n",
        "\n",
        "# Load the saved classes from the .npy file\n",
        "label_encoder.classes_ = np.load(\"label_encoder_classes.npy\", allow_pickle=True)\n",
        "\n",
        "# Ensure the LabelEncoder is \"fitted\" by setting its state manually\n",
        "label_encoder._classes = label_encoder.classes_\n",
        "\n",
        "# --- Knowledge Base Integration ---\n",
        "knowledge_base = {\n",
        "    \"recover_password\": [\n",
        "        \"To recover your PIN code, follow these steps: 1. Navigate to the account recovery page. 2. Click on the 'Forgot PIN' option. 3. Enter the email address associated with your account. 4. An email with instructions will be sent to you shortly.\",\n",
        "        \"If you've lost access to your PIN, visit the account recovery page and follow the prompts to reset it.\"\n",
        "    ],\n",
        "    \"track_order\": [\n",
        "        \"To track your order, please provide your order ID. You can find the tracking information in your account's order history section.\",\n",
        "        \"Visit the 'Order Tracking' section of your account to view the status of your order.\"\n",
        "    ],\n",
        "    \"reset_pin\": [\n",
        "        \"To reset your PIN code, go to the account settings page and select the 'Reset PIN' option. Follow the instructions to verify your identity and set a new PIN.\",\n",
        "        \"If you need to reset your PIN, navigate to the security settings in your account and follow the prompts.\"\n",
        "    ],\n",
        "    \"recover_account\": [\n",
        "        \"To recover your account, visit the account recovery page and follow the instructions provided.\",\n",
        "        \"If you're unable to access your account, use the account recovery tool to regain access.\"\n",
        "    ],\n",
        "    \"access_key_recovery\": [\n",
        "        \"To recover your access key, please contact our customer support team for assistance.\",\n",
        "        \"If you've lost your access key, reach out to our support team, and they will guide you through the recovery process.\"\n",
        "    ]\n",
        "}\n",
        "\n",
        "# --- Chatbot Functionality ---\n",
        "def generate_chatbot_response(user_input):\n",
        "    # Predict intent using DistilBERT\n",
        "    inputs_intent = tokenizer_intent([user_input], padding=True, truncation=True, max_length=128, return_tensors=\"pt\")\n",
        "    outputs_intent = model_intent(**inputs_intent)\n",
        "    intent_id = torch.argmax(outputs_intent.logits, dim=-1).item()\n",
        "\n",
        "    # Use the label encoder to map the predicted ID to an intent\n",
        "    intent = label_encoder.inverse_transform([intent_id])[0]\n",
        "    confidence = torch.softmax(outputs_intent.logits, dim=-1).max().item()\n",
        "\n",
        "    # Confidence thresholding\n",
        "    if confidence < 0.5:\n",
        "        return \"I'm sorry, I didn't understand that. Can you please rephrase?\"\n",
        "\n",
        "    # Generate response using Flan-T5\n",
        "    # Add a detailed prompt to guide the Flan-T5 model\n",
        "    prefixed_input = (\n",
        "        f\"You are a customer support assistant specializing in helping users with account issues. \"\n",
        "        f\"Provide a concise and helpful response to the following query:\\n\"\n",
        "        f\"User: {user_input}\\n\"\n",
        "        f\"Assistant:\"\n",
        "    )\n",
        "    inputs_response = tokenizer_response([prefixed_input], padding=True, truncation=True, max_length=128, return_tensors=\"pt\")\n",
        "    outputs_response = model_response.generate(**inputs_response, max_length=128)\n",
        "    response = tokenizer_response.decode(outputs_response[0], skip_special_tokens=True)\n",
        "\n",
        "    # Clean up the response\n",
        "    def clean_response(response):\n",
        "        # Remove unnecessary placeholders\n",
        "        response = response.replace(\"<extra_id_0>\", \"\").strip()\n",
        "\n",
        "        # Handle empty responses\n",
        "        if not response:\n",
        "            response = \"I'm sorry, I couldn't generate a response.\"\n",
        "\n",
        "        return response\n",
        "    response = clean_response(response)\n",
        "\n",
        "    # Fallback to knowledge base if response is empty or unclear\n",
        "    if not response.strip() or confidence < 0.7:\n",
        "        if intent in knowledge_base:\n",
        "            response = random.choice(knowledge_base[intent])  # Randomly select a response\n",
        "        else:\n",
        "            response = \"I'm sorry, I couldn't find a suitable response for your query.\"\n",
        "\n",
        "    return response\n",
        "\n",
        "# --- BLEU Score Evaluation ---\n",
        "def calculate_bleu_score(reference_responses, generated_responses):\n",
        "    \"\"\"\n",
        "    Calculate the BLEU score between reference responses and generated responses.\n",
        "\n",
        "    Args:\n",
        "        reference_responses (list of str): List of reference responses (ground truth).\n",
        "        generated_responses (list of str): List of generated responses from the model.\n",
        "\n",
        "    Returns:\n",
        "        float: Average BLEU score across all response pairs.\n",
        "    \"\"\"\n",
        "    if len(reference_responses) != len(generated_responses):\n",
        "        raise ValueError(\"The number of reference responses and generated responses must be the same.\")\n",
        "\n",
        "    bleu_scores = []\n",
        "\n",
        "    for ref, gen in zip(reference_responses, generated_responses):\n",
        "        # Tokenize the reference and generated responses\n",
        "        reference_tokens = nltk.word_tokenize(ref.lower())\n",
        "        generated_tokens = nltk.word_tokenize(gen.lower())\n",
        "\n",
        "        # Compute BLEU score for this pair\n",
        "        score = sentence_bleu([reference_tokens], generated_tokens)\n",
        "        bleu_scores.append(score)\n",
        "\n",
        "    # Return the average BLEU score\n",
        "    return sum(bleu_scores) / len(bleu_scores)\n",
        "\n",
        "# --- Test the Chatbot with Sample Inputs ---\n",
        "sample_inputs = [\n",
        "    \"I need help tracking my order.\",\n",
        "    \"How can I reset my PIN code?\",\n",
        "    \"Can you help me recover my account?\",\n",
        "    \"What do I have to do to recover my account access key?\",\n",
        "    \"I want assistance to reset the PIN code of my account.\",\n",
        "    \"I am trying to contact a human agent.\",\n",
        "    \"I expect a compensation of $100.\",\n",
        "    \"Can you help me switch to a premium account?\"\n",
        "]\n",
        "\n",
        "# Prepare reference responses from the knowledge base\n",
        "reference_responses = []\n",
        "generated_responses = []\n",
        "\n",
        "for input_text in sample_inputs:\n",
        "    # Get the intent for the input\n",
        "    inputs_intent = tokenizer_intent([input_text], padding=True, truncation=True, max_length=128, return_tensors=\"pt\")\n",
        "    outputs_intent = model_intent(**inputs_intent)\n",
        "    intent_id = torch.argmax(outputs_intent.logits, dim=-1).item()\n",
        "    intent = label_encoder.inverse_transform([intent_id])[0]\n",
        "\n",
        "    # Use the knowledge base as the reference response\n",
        "    if intent in knowledge_base:\n",
        "        reference_response = random.choice(knowledge_base[intent])\n",
        "    else:\n",
        "        reference_response = \"I'm sorry, I couldn't find a suitable response for your query.\"\n",
        "    reference_responses.append(reference_response)\n",
        "\n",
        "    # Generate the chatbot response\n",
        "    generated_response = generate_chatbot_response(input_text)\n",
        "    generated_responses.append(generated_response)\n",
        "\n",
        "    # Print the input, reference response, and generated response\n",
        "    print(f\"Input: {input_text}\")\n",
        "    print(f\"Reference Response: {reference_response}\")\n",
        "    print(f\"Generated Response: {generated_response}\\n\")\n",
        "\n",
        "# Calculate the BLEU score\n",
        "bleu_score = calculate_bleu_score(reference_responses, generated_responses)\n",
        "print(f\"Average BLEU Score: {bleu_score:.4f}\")"
      ],
      "metadata": {
        "colab": {
          "base_uri": "https://localhost:8080/"
        },
        "id": "880OEr71ZcV0",
        "outputId": "425ac117-5fcf-4dd4-a7f9-64a650052cb7"
      },
      "execution_count": 36,
      "outputs": [
        {
          "output_type": "stream",
          "name": "stderr",
          "text": [
            "[nltk_data] Downloading package punkt_tab to /root/nltk_data...\n",
            "[nltk_data]   Unzipping tokenizers/punkt_tab.zip.\n",
            "/usr/local/lib/python3.11/dist-packages/transformers/modeling_utils.py:442: FutureWarning: You are using `torch.load` with `weights_only=False` (the current default value), which uses the default pickle module implicitly. It is possible to construct malicious pickle data which will execute arbitrary code during unpickling (See https://github.com/pytorch/pytorch/blob/main/SECURITY.md#untrusted-models for more details). In a future release, the default value for `weights_only` will be flipped to `True`. This limits the functions that could be executed during unpickling. Arbitrary objects will no longer be allowed to be loaded via this mode unless they are explicitly allowlisted by the user via `torch.serialization.add_safe_globals`. We recommend you start setting `weights_only=True` for any use case where you don't have full control of the loaded file. Please open an issue on GitHub for any issues related to this experimental feature.\n",
            "  return torch.load(checkpoint_file, map_location=\"cpu\")\n",
            "/usr/local/lib/python3.11/dist-packages/huggingface_hub/file_download.py:795: FutureWarning: `resume_download` is deprecated and will be removed in version 1.0.0. Downloads always resume when possible. If you want to force a new download, use `force_download=True`.\n",
            "  warnings.warn(\n"
          ]
        },
        {
          "output_type": "stream",
          "name": "stdout",
          "text": [
            "Input: I need help tracking my order.\n",
            "Reference Response: To track your order, please provide your order ID. You can find the tracking information in your account's order history section.\n",
            "Generated Response: Visit the 'Order Tracking' section of your account to view the status of your order.\n",
            "\n",
            "Input: How can I reset my PIN code?\n",
            "Reference Response: To recover your PIN code, follow these steps: 1. Navigate to the account recovery page. 2. Click on the 'Forgot PIN' option. 3. Enter the email address associated with your account. 4. An email with instructions will be sent to you shortly.\n",
            "Generated Response: You can use the PIN code you created to reset your PIN.\n",
            "\n",
            "Input: Can you help me recover my account?\n",
            "Reference Response: I'm sorry, I couldn't find a suitable response for your query.\n",
            "Generated Response: I've been trying to recover my account.\n",
            "\n",
            "Input: What do I have to do to recover my account access key?\n",
            "Reference Response: To recover your PIN code, follow these steps: 1. Navigate to the account recovery page. 2. Click on the 'Forgot PIN' option. 3. Enter the email address associated with your account. 4. An email with instructions will be sent to you shortly.\n",
            "Generated Response: I have to do this to recover my account access key.\n",
            "\n",
            "Input: I want assistance to reset the PIN code of my account.\n",
            "Reference Response: To recover your PIN code, follow these steps: 1. Navigate to the account recovery page. 2. Click on the 'Forgot PIN' option. 3. Enter the email address associated with your account. 4. An email with instructions will be sent to you shortly.\n",
            "Generated Response: I am looking for help with the PIN code.\n",
            "\n",
            "Input: I am trying to contact a human agent.\n",
            "Reference Response: I'm sorry, I couldn't find a suitable response for your query.\n",
            "Generated Response: I am looking for a human agent.\n",
            "\n",
            "Input: I expect a compensation of $100.\n",
            "Reference Response: I'm sorry, I couldn't find a suitable response for your query.\n",
            "Generated Response: I'm a customer support assistant specializing in helping users with account issues.\n",
            "\n",
            "Input: Can you help me switch to a premium account?\n",
            "Reference Response: I'm sorry, I couldn't find a suitable response for your query.\n",
            "Generated Response: I'm sorry, I can't help you.\n",
            "\n",
            "Average BLEU Score: 0.0324\n"
          ]
        },
        {
          "output_type": "stream",
          "name": "stderr",
          "text": [
            "/usr/local/lib/python3.11/dist-packages/nltk/translate/bleu_score.py:577: UserWarning: \n",
            "The hypothesis contains 0 counts of 3-gram overlaps.\n",
            "Therefore the BLEU score evaluates to 0, independently of\n",
            "how many N-gram overlaps of lower order it contains.\n",
            "Consider using lower n-gram order or use SmoothingFunction()\n",
            "  warnings.warn(_msg)\n",
            "/usr/local/lib/python3.11/dist-packages/nltk/translate/bleu_score.py:577: UserWarning: \n",
            "The hypothesis contains 0 counts of 4-gram overlaps.\n",
            "Therefore the BLEU score evaluates to 0, independently of\n",
            "how many N-gram overlaps of lower order it contains.\n",
            "Consider using lower n-gram order or use SmoothingFunction()\n",
            "  warnings.warn(_msg)\n",
            "/usr/local/lib/python3.11/dist-packages/nltk/translate/bleu_score.py:577: UserWarning: \n",
            "The hypothesis contains 0 counts of 2-gram overlaps.\n",
            "Therefore the BLEU score evaluates to 0, independently of\n",
            "how many N-gram overlaps of lower order it contains.\n",
            "Consider using lower n-gram order or use SmoothingFunction()\n",
            "  warnings.warn(_msg)\n"
          ]
        }
      ]
    },
    {
      "cell_type": "code",
      "source": [
        "import matplotlib.pyplot as plt\n",
        "\n",
        "# Data from the logs\n",
        "epochs = [1, 2]\n",
        "training_loss = [0.032700, 0.005900]\n",
        "validation_loss = [0.024347, 0.016206]\n",
        "\n",
        "# Create the plot\n",
        "plt.figure(figsize=(10, 6))\n",
        "plt.plot(epochs, training_loss, label=\"Training Loss\", marker='o', linestyle='-', color='blue')\n",
        "plt.plot(epochs, validation_loss, label=\"Validation Loss\", marker='o', linestyle='--', color='orange')\n",
        "\n",
        "# Add titles and labels\n",
        "plt.title(\"Training and Validation Loss Over Epochs\", fontsize=16, fontweight=\"bold\")\n",
        "plt.xlabel(\"Epoch\", fontsize=14)\n",
        "plt.ylabel(\"Loss\", fontsize=14)\n",
        "plt.xticks(epochs)  # Ensure x-axis ticks match the epochs\n",
        "plt.legend(fontsize=12)\n",
        "\n",
        "# Add gridlines for better readability\n",
        "plt.grid(color=\"gray\", linestyle=\"--\", linewidth=0.5)\n",
        "\n",
        "# Show the plot\n",
        "plt.tight_layout()\n",
        "plt.show()"
      ],
      "metadata": {
        "colab": {
          "base_uri": "https://localhost:8080/",
          "height": 557
        },
        "id": "oFXqgg40linY",
        "outputId": "f6d915ce-a82f-4ad6-ab4b-7c89ff8e648d"
      },
      "execution_count": 43,
      "outputs": [
        {
          "output_type": "display_data",
          "data": {
            "text/plain": [
              "<Figure size 1000x600 with 1 Axes>"
            ],
            "image/png": "[encoded data removed]"
          },
          "metadata": {}
        }
      ]
    },
    {
      "cell_type": "code",
      "source": [
        "import pandas as pd\n",
        "import matplotlib.pyplot as plt\n",
        "import seaborn as sns\n",
        "\n",
        "# Ablation Study Results Data\n",
        "data = {\n",
        "    \"learning_rate\": [0.00001, 0.00001, 0.00001, 0.00001, 0.00002, 0.00002, 0.00002, 0.00002],\n",
        "    \"batch_size\": [8, 8, 16, 16, 8, 8, 16, 16],\n",
        "    \"max_length\": [64, 128, 64, 128, 64, 128, 64, 128],\n",
        "    \"accuracy\": [0.984615, 0.985436, 0.952205, 0.952205, 0.995282, 0.995282, 0.991795, 0.991795],\n",
        "}\n",
        "\n",
        "# Create a DataFrame\n",
        "df = pd.DataFrame(data)\n",
        "\n",
        "# Set Seaborn style\n",
        "sns.set(style=\"whitegrid\")\n",
        "\n",
        "# Create a bar plot with grouped bars for batch size and max length\n",
        "plt.figure(figsize=(12, 6))  # Adjust figure size as needed\n",
        "\n",
        "# Define custom color palette\n",
        "colors = [\"#1f77b4\", \"#ff7f0e\"]  # Example: Blue and Orange\n",
        "sns.set_palette(sns.color_palette(colors))\n",
        "\n",
        "sns.barplot(\n",
        "    data=df,\n",
        "    x=\"learning_rate\",\n",
        "    y=\"accuracy\",\n",
        "    hue=\"batch_size\",\n",
        "    ci=None,  # Remove confidence intervals if not needed\n",
        ")\n",
        "\n",
        "# Add a second y-axis for max length (represented by line plot)\n",
        "ax2 = plt.twinx()  # Create a twin axis\n",
        "\n",
        "# Define custom color for line plot\n",
        "line_color = \"#2ca02c\"  # Example: Green\n",
        "sns.lineplot(\n",
        "    data=df,\n",
        "    x=\"learning_rate\",\n",
        "    y=\"max_length\",\n",
        "    hue=\"batch_size\",\n",
        "    marker=\"o\",  # Add markers to the line\n",
        "    ax=ax2,  # Plot on the second axis\n",
        "    legend=False,  # Hide legend for second axis\n",
        "    palette=[line_color],  # Use custom color\n",
        ")\n",
        "\n",
        "# Customize the plot\n",
        "plt.title(\"Ablation Study Results\", fontsize=16, fontweight=\"bold\")\n",
        "plt.xlabel(\"Learning Rate\", fontsize=14)\n",
        "plt.ylabel(\"Accuracy\", fontsize=14)\n",
        "ax2.set_ylabel(\"Max Length\", fontsize=14)\n",
        "plt.xticks(rotation=0)  # Adjust x-axis tick rotation if needed\n",
        "plt.legend(title=\"Batch Size\", loc=\"lower right\", fontsize=12)\n",
        "plt.grid(color=\"gray\", linestyle=\"--\", linewidth=0.5)\n",
        "\n",
        "# Show the plot\n",
        "plt.tight_layout()\n",
        "plt.show()"
      ],
      "metadata": {
        "colab": {
          "base_uri": "https://localhost:8080/",
          "height": 795
        },
        "id": "BvhVVHY_oNfa",
        "outputId": "43c62073-e453-49e1-d446-6236c830c123"
      },
      "execution_count": 46,
      "outputs": [
        {
          "output_type": "stream",
          "name": "stderr",
          "text": [
            "<ipython-input-46-b310b072d12e>:26: FutureWarning: \n",
            "\n",
            "The `ci` parameter is deprecated. Use `errorbar=None` for the same effect.\n",
            "\n",
            "  sns.barplot(\n",
            "<ipython-input-46-b310b072d12e>:39: UserWarning: \n",
            "The palette list has fewer values (1) than needed (2) and will cycle, which may produce an uninterpretable plot.\n",
            "  sns.lineplot(\n",
            "<ipython-input-46-b310b072d12e>:56: UserWarning: No artists with labels found to put in legend.  Note that artists whose label start with an underscore are ignored when legend() is called with no argument.\n",
            "  plt.legend(title=\"Batch Size\", loc=\"lower right\", fontsize=12)\n"
          ]
        },
        {
          "output_type": "display_data",
          "data": {
            "text/plain": [
              "<Figure size 1200x600 with 2 Axes>"
            ],
            "image/png": "[encoded data removed]"
          },
          "metadata": {}
        }
      ]
    },
    {
      "cell_type": "code",
      "source": [],
      "metadata": {
        "id": "f3Iy-NCureP4"
      },
      "execution_count": null,
      "outputs": []
    }
  ]
}